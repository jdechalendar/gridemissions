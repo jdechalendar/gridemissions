{
 "cells": [
  {
   "cell_type": "markdown",
   "id": "6d5c683f-1d10-4992-ad8c-ac5a25fe1fde",
   "metadata": {},
   "source": [
    "# Contents\n",
    "Demo of reports"
   ]
  },
  {
   "cell_type": "code",
   "execution_count": null,
   "id": "00efb43b-0d7c-4f02-9919-2a149d414883",
   "metadata": {},
   "outputs": [],
   "source": [
    "%load_ext autoreload\n",
    "%autoreload 2\n",
    "%matplotlib inline\n",
    "import matplotlib.pyplot as plt\n",
    "import os\n",
    "from os.path import join\n",
    "import logging\n",
    "import json\n",
    "\n",
    "import pandas as pd\n",
    "from gridemissions.load import BaData\n",
    "from gridemissions.eia_api import BAs, KEYS, SRC\n",
    "import gridemissions\n",
    "import re\n",
    "import numpy as np"
   ]
  },
  {
   "cell_type": "code",
   "execution_count": null,
   "id": "c9a43ce8-3e2a-427b-92d4-b546d3d19f79",
   "metadata": {},
   "outputs": [],
   "source": [
    "from gridemissions.viz import set_plots, reports\n",
    "\n",
    "COLORS, PAGE_WIDTH, ROW_HEIGHT = set_plots()"
   ]
  },
  {
   "cell_type": "code",
   "execution_count": null,
   "id": "9370401c-861b-4a28-be3c-3c9b4cc1b3f9",
   "metadata": {},
   "outputs": [],
   "source": [
    "file_name = join(gridemissions.config[\"APEN_PATH\"], \"data\", \"EBA_%s.csv\")\n",
    "co2 = BaData(fileNm=file_name % \"co2\", variable=\"CO2\")\n",
    "elec = BaData(fileNm=file_name % \"elec\", variable=\"E\")"
   ]
  },
  {
   "cell_type": "code",
   "execution_count": null,
   "id": "59284702-cc6e-46ae-a6b6-cf5e05023b6a",
   "metadata": {},
   "outputs": [],
   "source": [
    "file_name = \"../EBA_%s.csv\"\n",
    "co2_vm = BaData(fileNm=file_name % \"co2\", variable=\"CO2\")\n",
    "elec_vm = BaData(fileNm=file_name % \"elec\", variable=\"E\")"
   ]
  },
  {
   "cell_type": "code",
   "execution_count": null,
   "id": "8341e283-d57a-46bd-9377-38b27d40f54b",
   "metadata": {},
   "outputs": [],
   "source": [
    "ba = \"CISO\"\n",
    "reports._plot_carbon_intensity(\n",
    "    ba, co2, elec, add_title=\"Carbon intensity\", unit=\"kg/MWh\"\n",
    ")\n",
    "reports._plot_carbon_intensity(\n",
    "    ba, co2_vm, elec_vm, add_title=\"Carbon intensity VM\", unit=\"kg/MWh\"\n",
    ")"
   ]
  },
  {
   "cell_type": "code",
   "execution_count": null,
   "id": "3ce170b5-1ac1-4528-a82b-1cfbce9aa2f9",
   "metadata": {},
   "outputs": [],
   "source": [
    "end = \"2021-01-01\"\n",
    "start = \"2020-01-01\"\n",
    "tz_offset = \"6\"\n",
    "co2i = pd.DataFrame(\n",
    "    {\n",
    "        ba: (\n",
    "            co2.df.loc[start:end, co2.get_cols(ba, field=\"D\")].values.flatten()\n",
    "            / elec.df.loc[start:end, elec.get_cols(ba, field=\"D\")].values.flatten()\n",
    "        )\n",
    "        for ba in co2.regions\n",
    "    },\n",
    "    index=co2.df.loc[start:end].index,\n",
    ")\n",
    "co2i.index -= pd.Timedelta(f\"{tz_offset}h\")\n",
    "\n",
    "f, ax = plt.subplots(figsize=(PAGE_WIDTH, 1.5 * ROW_HEIGHT))\n",
    "reports.heatmap(\n",
    "    co2i[ba],\n",
    "    fax=(f, ax),\n",
    "    cmap=\"RdYlGn_r\",\n",
    "    cbar_label=f\"{ba} - kg/MWh\",\n",
    "    transpose=True,\n",
    ")\n",
    "add_watermark(ax)\n",
    "ax.set_title(f\"{ba}: Consumption-based carbon intensity\", fontsize=\"large\")\n",
    "f.tight_layout()"
   ]
  },
  {
   "cell_type": "code",
   "execution_count": null,
   "id": "edc04938-8acb-4f70-b59c-730d5f5baa8f",
   "metadata": {},
   "outputs": [],
   "source": [
    "ba"
   ]
  },
  {
   "cell_type": "code",
   "execution_count": null,
   "id": "cd61804a-6c42-4371-a2e0-e2e67a8fc5f6",
   "metadata": {},
   "outputs": [],
   "source": [
    "co2_ = co2_vm\n",
    "elec_ = elec_vm\n",
    "co2iD = (\n",
    "    co2_.df.loc[:, co2_.get_cols(r=ba, field=\"D\")].values.flatten()\n",
    "    / elec_.df.loc[:, elec_.get_cols(r=ba, field=\"D\")].values.flatten()\n",
    ")\n",
    "co2iG = (\n",
    "    co2_.df.loc[:, co2_.get_cols(r=ba, field=\"NG\")].values.flatten()\n",
    "    / elec_.df.loc[:, elec_.get_cols(r=ba, field=\"NG\")].values.flatten()\n",
    ")\n",
    "co2iD[co2iD > 2000] = np.nan\n",
    "co2iG[co2iG > 2000] = np.nan\n",
    "\n",
    "impC, expC = separate_imp_exp(co2_, ba)\n",
    "impE, expE = separate_imp_exp(elec_, ba)\n",
    "\n",
    "co2i_imp = impC / impE\n",
    "co2i_exp = expC / expE\n",
    "\n",
    "f, ax = plt.subplots(1, 1, figsize=(PAGE_WIDTH, ROW_HEIGHT))\n",
    "myplot(ax, pd.Series(co2iD, index=co2_.df.index), label=\"Demand\", color=COLORS[0])\n",
    "myplot(ax, pd.Series(co2iG, index=co2_.df.index), label=\"Generation\", color=COLORS[1])\n",
    "myplot(ax, pd.Series(co2i_imp, index=co2_.df.index), label=\"Imports\", color=COLORS[2])"
   ]
  },
  {
   "cell_type": "code",
   "execution_count": null,
   "id": "fe0e1f36-890f-4072-90f2-464917af24dc",
   "metadata": {},
   "outputs": [],
   "source": [
    "impE"
   ]
  },
  {
   "cell_type": "code",
   "execution_count": null,
   "id": "519a0f0f-b3f0-4cda-bea6-71d8030dbbea",
   "metadata": {},
   "outputs": [],
   "source": [
    "impE, expE = separate_imp_exp(elec, ba)\n",
    "impE"
   ]
  },
  {
   "cell_type": "code",
   "execution_count": null,
   "id": "c0ca1b65-03c8-4173-b159-75e3895131fb",
   "metadata": {},
   "outputs": [],
   "source": [
    "co2.get_trade_partners(ba)"
   ]
  },
  {
   "cell_type": "code",
   "execution_count": null,
   "id": "a9ddbcf3-6780-4464-b45a-8e569e224323",
   "metadata": {},
   "outputs": [],
   "source": [
    "# Consolidate heatmap report\n",
    "# Cleanup plots in this report to show usage"
   ]
  },
  {
   "cell_type": "code",
   "execution_count": null,
   "id": "a744194f-6450-4400-8ccf-22ff04695e0b",
   "metadata": {},
   "outputs": [],
   "source": []
  }
 ],
 "metadata": {
  "kernelspec": {
   "display_name": "py38",
   "language": "python",
   "name": "py38"
  },
  "language_info": {
   "codemirror_mode": {
    "name": "ipython",
    "version": 3
   },
   "file_extension": ".py",
   "mimetype": "text/x-python",
   "name": "python",
   "nbconvert_exporter": "python",
   "pygments_lexer": "ipython3",
   "version": "3.8.5"
  }
 },
 "nbformat": 4,
 "nbformat_minor": 5
}
