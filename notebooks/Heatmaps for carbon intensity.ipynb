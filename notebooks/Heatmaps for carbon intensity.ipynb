{
 "cells": [
  {
   "cell_type": "markdown",
   "id": "0bf7727e-0f90-47ba-a629-22f60bb2919c",
   "metadata": {},
   "source": [
    "# Heatmaps for carbon intensity in 2020"
   ]
  },
  {
   "cell_type": "code",
   "execution_count": null,
   "id": "aca44465-d261-43ba-95e1-428e4b4d639f",
   "metadata": {},
   "outputs": [],
   "source": [
    "%load_ext autoreload\n",
    "%autoreload 2\n",
    "%matplotlib inline\n",
    "import matplotlib.pyplot as plt\n",
    "import os\n",
    "from os.path import join\n",
    "import logging\n",
    "import json\n",
    "\n",
    "import pandas as pd\n",
    "import gridemissions\n",
    "from gridemissions import api\n",
    "from gridemissions.load import BaData\n",
    "from gridemissions import viz\n"
   ]
  },
  {
   "cell_type": "code",
   "execution_count": null,
   "id": "b4d819bd-8d65-46d6-8cd3-b4ba9092fd4b",
   "metadata": {},
   "outputs": [],
   "source": [
    "savefigs = False"
   ]
  },
  {
   "cell_type": "code",
   "execution_count": null,
   "id": "7d621cd1-994d-4358-8213-4ed6cccbf9f1",
   "metadata": {},
   "outputs": [],
   "source": [
    "COLORS, PAGE_WIDTH, ROW_HEIGHT = viz.set_plots()"
   ]
  },
  {
   "cell_type": "code",
   "execution_count": null,
   "id": "74eccb94-bf21-432f-94ad-efac82d9f4f5",
   "metadata": {},
   "outputs": [],
   "source": [
    "file_name = join(gridemissions.config[\"APEN_PATH\"], \"data\", \"EBA_%s.csv\")\n",
    "co2 = BaData(fileNm=file_name % \"co2\", variable=\"CO2\")\n",
    "elec = BaData(fileNm=file_name % \"elec\", variable=\"E\")"
   ]
  },
  {
   "cell_type": "code",
   "execution_count": null,
   "id": "54212bef-c0a2-49d4-bd9c-886b2a6c730e",
   "metadata": {},
   "outputs": [],
   "source": [
    "start = pd.to_datetime(\"20200101T0000Z\")\n",
    "end = pd.to_datetime(\"20210101T0000Z\")"
   ]
  },
  {
   "cell_type": "code",
   "execution_count": null,
   "id": "265a9700-cf13-4261-b8a4-ee4cbfb95122",
   "metadata": {},
   "outputs": [],
   "source": [
    "ba = \"CISO\"\n",
    "co2i = pd.DataFrame({ba: (\n",
    "    co2.df.loc[start:end, co2.get_cols(ba, field=\"D\")].values.flatten()\n",
    "    / elec.df.loc[start:end, elec.get_cols(ba, field=\"D\")].values.flatten())\n",
    " for ba in co2.regions\n",
    "}, index=co2.df.loc[start:end].index)\n",
    "\n",
    "# Store index before shifting\n",
    "utc_idx = co2i.index\n",
    "co2i.index -= pd.Timedelta(\"6h\")"
   ]
  },
  {
   "cell_type": "code",
   "execution_count": null,
   "id": "d0fcd9c8-4840-4b29-9b40-40a803d508a6",
   "metadata": {},
   "outputs": [],
   "source": []
  },
  {
   "cell_type": "code",
   "execution_count": null,
   "id": "a9eb51ad-9ab9-4a9b-910d-207d9f370fea",
   "metadata": {},
   "outputs": [],
   "source": [
    "f, ax = plt.subplots(figsize=(PAGE_WIDTH, 1.5*ROW_HEIGHT))\n",
    "viz.heatmap(co2i[\"CISO\"], fax=(f, ax), cmap=\"RdYlGn_r\", cbar_label=\"CISO - kg/MWh\", transpose=True)\n",
    "viz.add_watermark(ax)\n",
    "f.tight_layout()\n",
    "if savefigs:\n",
    "    f.savefig(join(gridemissions.config[\"APEN_PATH\"], \"CISO_in_2020_A.pdf\"))\n"
   ]
  },
  {
   "cell_type": "code",
   "execution_count": null,
   "id": "4d119e6f-06c0-4232-8279-b1d92ca54728",
   "metadata": {},
   "outputs": [],
   "source": [
    "n=40\n",
    "bas = co2.df.loc[start:end, co2.get_cols(field=\"D\")].sum().sort_values(ascending=False).index[0:n]\n",
    "bas = list(map(lambda x: x.split(\"_\")[1], bas))\n",
    "bas"
   ]
  },
  {
   "cell_type": "code",
   "execution_count": null,
   "id": "76aa45b8-1514-4bc2-9049-96f6ebe2a400",
   "metadata": {},
   "outputs": [],
   "source": [
    "f, ax = plt.subplots(figsize=(PAGE_WIDTH, 1.5*ROW_HEIGHT))\n",
    "viz.heatmap(co2i[\"CISO\"], fax=(f, ax), vmin=100, vmax=900, cmap=\"RdYlGn_r\", cbar_label=\"CISO - kg/MWh\", transpose=True)\n",
    "viz.add_watermark(ax)\n",
    "f.tight_layout()\n",
    "if savefigs:\n",
    "    f.savefig(join(gridemissions.config[\"APEN_PATH\"], \"CISO_in_2020_B.pdf\"))"
   ]
  },
  {
   "cell_type": "code",
   "execution_count": null,
   "id": "ba1127fb-762b-481c-887e-7e584486326e",
   "metadata": {},
   "outputs": [],
   "source": [
    "n = 40\n",
    "bas = co2.df.loc[start:end, co2.get_cols(field=\"D\")].sum().sort_values(ascending=False).index[0:n]\n",
    "bas = list(map(lambda x: x.split(\"_\")[1], bas))\n",
    "\n",
    "nrows = n // 4\n",
    "\n",
    "f, ax = plt.subplots(nrows, 4, figsize=(1.2*PAGE_WIDTH, nrows/2* ROW_HEIGHT))\n",
    "ax = ax.flatten()\n",
    "\n",
    "for iba, ba in enumerate(bas[:-1]):\n",
    "    ax[iba].set_title(ba)\n",
    "    viz.heatmap(co2i[ba], fax=(f, ax[iba]), vmin=100, vmax=900, cmap=\"RdYlGn_r\", cbar_label=\"kg/MWh\", with_cbar=False)\n",
    "\n",
    "\n",
    "for a in ax:\n",
    "    a.set_yticks([])\n",
    "    a.set_xticks([])\n",
    "    a.set_ylabel(\"\")\n",
    "    a.set_xlabel(\"\")\n",
    "f.tight_layout()\n",
    "\n",
    "ba = bas[-1]\n",
    "iba = len(bas)-1\n",
    "ax[iba].set_title(ba)\n",
    "viz.heatmap(co2i[ba], fax=(f, ax[iba]), vmin=100, vmax=900, cmap=\"RdYlGn_r\", cbar_label=\"kg/MWh\", with_cbar=True, cbar_ax=[ax[-4:]])\n",
    "for a in ax:\n",
    "    a.set_yticks([])\n",
    "    a.set_xticks([])\n",
    "    a.set_ylabel(\"\")\n",
    "    a.set_xlabel(\"\")\n",
    "viz.add_watermark(ax[iba], y=-.05)\n",
    "\n",
    "if savefigs:\n",
    "    f.savefig(join(gridemissions.config[\"APEN_PATH\"], \"top_40_in_2020.pdf\"))"
   ]
  },
  {
   "cell_type": "markdown",
   "id": "7e7c0b38-2fa8-4d67-a9bb-78aa97eabbda",
   "metadata": {},
   "source": [
    "# From 2019 to 2021"
   ]
  },
  {
   "cell_type": "code",
   "execution_count": null,
   "id": "dd15a4f9-6010-4093-956a-f6f910ede99a",
   "metadata": {},
   "outputs": [],
   "source": [
    "from io import StringIO\n",
    "\n",
    "elec2 = []\n",
    "for start, end in [(\"20190101\", \"20191231\"), (\"20191231\", \"20201231\"), (\"20201231\", \"20211231\")]:\n",
    "    data = api.retrieve(variable=\"elec\", ba=bas, start=start, end=end, field=\"D\")\n",
    "    elec2.append(pd.read_csv(StringIO(data), index_col=0))\n",
    "elec2 = pd.concat(elec2)"
   ]
  },
  {
   "cell_type": "code",
   "execution_count": null,
   "id": "0d8bbc7c-624f-487a-9f91-92c36fbe595b",
   "metadata": {},
   "outputs": [],
   "source": [
    "co22 = []\n",
    "for start, end in [(\"20190101\", \"20191231\"), (\"20191231\", \"20201231\"), (\"20201231\", \"20211231\")]:\n",
    "    data = api.retrieve(variable=\"co2\", ba=bas, start=start, end=end, field=\"D\")\n",
    "    co22.append(pd.read_csv(StringIO(data), index_col=0))\n",
    "co22 = pd.concat(co22)"
   ]
  },
  {
   "cell_type": "code",
   "execution_count": null,
   "id": "7307b489-45e2-4c9a-9ebf-fb84c94a2ffb",
   "metadata": {},
   "outputs": [],
   "source": [
    "co22.index = pd.to_datetime(co22.index)\n",
    "elec2.index = pd.to_datetime(elec2.index)"
   ]
  },
  {
   "cell_type": "code",
   "execution_count": null,
   "id": "de3cfbc2-40f3-4aa2-9c42-d4a2e97dff25",
   "metadata": {},
   "outputs": [],
   "source": [
    "start = pd.to_datetime(\"20190101T0000Z\")\n",
    "end = pd.to_datetime(\"20211231T0000Z\")\n",
    "\n",
    "co2i2 = pd.DataFrame({ba: (\n",
    "    co22.loc[start:end, co2.get_cols(ba, field=\"D\")].values.flatten()\n",
    "    / elec2.loc[start:end, elec.get_cols(ba, field=\"D\")].values.flatten())\n",
    " for ba in bas\n",
    "}, index=co22.loc[start:end].index)\n",
    "\n",
    "# Store index before shifting\n",
    "utc_idx = co2i2.index\n",
    "co2i2.index -= pd.Timedelta(\"6h\")\n",
    "\n",
    "# Drop duplicates\n",
    "co2i2 = co2i2[~co2i2.index.duplicated()]"
   ]
  },
  {
   "cell_type": "code",
   "execution_count": null,
   "id": "8f884272-d0a5-40ff-b9c9-d201ab867774",
   "metadata": {},
   "outputs": [],
   "source": [
    "f, ax = plt.subplots(figsize=(PAGE_WIDTH, 1.5*ROW_HEIGHT))\n",
    "plotHeatmap(co2i2, \"CISO\", fig=f, ax=ax, cmap=\"RdYlGn_r\", cbar_label=\"CISO - kg/MWh\")\n",
    "f.tight_layout()\n",
    "f.savefig(join(gridemissions.config[\"APEN_PATH\"], \"CISO_2019_2021_A.pdf\"))\n",
    "\n",
    "f, ax = plt.subplots(figsize=(PAGE_WIDTH, 1.5*ROW_HEIGHT))\n",
    "plotHeatmap(co2i2, \"CISO\", fig=f, ax=ax, cmap=\"RdYlGn_r\", vmin=100, vmax=900, cbar_label=\"CISO - kg/MWh\")\n",
    "f.tight_layout()\n",
    "f.savefig(join(gridemissions.config[\"APEN_PATH\"], \"CISO_2019_2021_B.pdf\"))"
   ]
  },
  {
   "cell_type": "code",
   "execution_count": null,
   "id": "4428beaf-fc9a-4f40-9706-642236ee0e8d",
   "metadata": {},
   "outputs": [],
   "source": [
    "f, ax = plt.subplots(nrows, 4, figsize=(1.2*PAGE_WIDTH, nrows/2* ROW_HEIGHT))\n",
    "ax = ax.flatten()\n",
    "\n",
    "for iba, ba in enumerate(bas):\n",
    "    ax[iba].set_title(ba)\n",
    "    with_cbar = False\n",
    "    if iba == len(ax)-2:\n",
    "        with_cbar = True\n",
    "    plotHeatmap(co2i2, ba, fig=f, ax=ax[iba], cmap=\"RdYlGn_r\", vmin=100, vmax=900, with_cbar=with_cbar, cbar_label=\"kg/MWh\")\n",
    "\n",
    "\n",
    "for a in ax:\n",
    "    a.set_yticks([])\n",
    "    a.set_xticks([])\n",
    "    a.set_ylabel(\"\")\n",
    "    a.set_xlabel(\"\")\n",
    "    \n",
    "f.tight_layout()\n",
    "f.savefig(join(gridemissions.config[\"APEN_PATH\"], \"top_40_in_2019_2021.pdf\"))"
   ]
  },
  {
   "cell_type": "code",
   "execution_count": null,
   "id": "97ceaf32-f5b5-4ed0-80ef-adba2ec62a88",
   "metadata": {},
   "outputs": [],
   "source": []
  }
 ],
 "metadata": {
  "kernelspec": {
   "display_name": "Python3.8",
   "language": "python",
   "name": "python3.8"
  },
  "language_info": {
   "codemirror_mode": {
    "name": "ipython",
    "version": 3
   },
   "file_extension": ".py",
   "mimetype": "text/x-python",
   "name": "python",
   "nbconvert_exporter": "python",
   "pygments_lexer": "ipython3",
   "version": "3.8.5"
  }
 },
 "nbformat": 4,
 "nbformat_minor": 5
}
