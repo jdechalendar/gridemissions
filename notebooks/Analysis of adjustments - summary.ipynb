{
 "cells": [
  {
   "cell_type": "code",
   "execution_count": null,
   "id": "07b25b4d-e88f-44f1-a63c-4cdff196e9a6",
   "metadata": {},
   "outputs": [],
   "source": [
    "%load_ext autoreload\n",
    "%autoreload 2\n",
    "%matplotlib inline"
   ]
  },
  {
   "cell_type": "code",
   "execution_count": null,
   "id": "97d74cf1-ad58-489e-ad85-8e76dbe06b94",
   "metadata": {},
   "outputs": [],
   "source": [
    "import matplotlib.pyplot as plt\n",
    "import pandas as pd\n",
    "import gridemissions as ge\n",
    "from gridemissions.viz import set_plots\n",
    "import pathlib\n",
    "from ipywidgets import interact\n",
    "\n",
    "import re\n",
    "from gridemissions.papers.physics_informed import figure1, figure2, figure3, figure4\n",
    "\n",
    "COLORS, PAGE_WIDTH, ROW_HEIGHT = set_plots()\n",
    "ge.configure_logging(\"ERROR\")"
   ]
  },
  {
   "cell_type": "code",
   "execution_count": null,
   "id": "0c8e2c89-099c-4e35-bfc3-2ca59f67e031",
   "metadata": {},
   "outputs": [],
   "source": [
    "folder = ge.config[\"DATA_PATH\"] / \"EIA_Grid_Monitor\" / \"processed\"\n",
    "elec_files = [f for f in folder.iterdir() if f.name.endswith(\"elec.csv\")]\n",
    "raw_files = [f for f in folder.iterdir() if f.name.endswith(\"raw.csv\")]\n",
    "\n",
    "elec = ge.GraphData(\n",
    "    pd.concat(\n",
    "        [pd.read_csv(path, index_col=0, parse_dates=True) for path in elec_files],\n",
    "        axis=0,\n",
    "    )\n",
    ")\n",
    "raw = ge.GraphData(\n",
    "    pd.concat(\n",
    "        [pd.read_csv(path, index_col=0, parse_dates=True) for path in raw_files], axis=0\n",
    "    )\n",
    ")\n",
    "raw.df.sort_index(inplace=True)\n",
    "elec.df.sort_index(inplace=True)\n",
    "\n",
    "# Note: we need to drop duplicate indices here because there seems to be duplicates at the beginning/end of the files\n",
    "elec.df = elec.df[~elec.df.index.duplicated(keep=\"last\")]\n",
    "raw.df = raw.df[~raw.df.index.duplicated(keep=\"last\")]"
   ]
  },
  {
   "cell_type": "code",
   "execution_count": null,
   "id": "73fd8958-8c52-45e5-b6a8-df21ac0cad37",
   "metadata": {},
   "outputs": [],
   "source": [
    "deltas = elec.df - raw.df\n",
    "delta_quantiles = deltas.quantile([0.1, 0.5, 0.9])\n",
    "deltas_abs = deltas.abs().quantile([0.1, 0.5, 0.9])\n",
    "median_raw = raw.df.abs().quantile(0.5)\n",
    "delta_quantiles_pct = delta_quantiles / median_raw * 100"
   ]
  },
  {
   "cell_type": "code",
   "execution_count": null,
   "id": "ad81c55e-7a82-44d7-8ac8-44e2aa1a9b92",
   "metadata": {},
   "outputs": [],
   "source": [
    "n = 13\n",
    "ba_list = (\n",
    "    raw.get_data(raw.regions, \"D\")\n",
    "    .quantile(0.5)\n",
    "    .sort_values(ascending=False)\n",
    "    .index[0 : n * 3]\n",
    ")\n",
    "ba_list = [re.split(r\"\\.|-|_\", ba)[1] for ba in ba_list]\n",
    "\n",
    "# Do one plot for WECC BAs and one for EIC BAs\n",
    "WECC_BAs = [\n",
    "    \"AVA\",\n",
    "    \"AZPS\",\n",
    "    \"BANC\",\n",
    "    \"BPAT\",\n",
    "    \"CHPD\",\n",
    "    \"CISO\",\n",
    "    \"DEAA\",\n",
    "    \"DOPD\",\n",
    "    \"EPE\",\n",
    "    \"GCPD\",\n",
    "    \"GRMA\",\n",
    "    \"GWA\",\n",
    "    \"HGMA\",\n",
    "    \"IID\",\n",
    "    \"IPCO\",\n",
    "    \"LDWP\",\n",
    "    \"NEVP\",\n",
    "    \"NWMT\",\n",
    "    \"PACE\",\n",
    "    \"PACW\",\n",
    "    \"PGE\",\n",
    "    \"PNM\",\n",
    "    \"PSCO\",\n",
    "    \"PSEI\",\n",
    "    \"SCL\",\n",
    "    \"SRP\",\n",
    "    \"TEPC\",\n",
    "    \"TIDC\",\n",
    "    \"TPWR\",\n",
    "    \"WACM\",\n",
    "    \"WALC\",\n",
    "    \"WAUW\",\n",
    "    \"WWA\",\n",
    "]\n",
    "# figure3(ba_list[0:21], deltas_abs, median_raw)\n",
    "sorted_WECC_BAs = [r for r in ba_list if r in WECC_BAs]\n",
    "sorted_not_WECC_BAs = [r for r in ba_list if r not in WECC_BAs]"
   ]
  },
  {
   "cell_type": "markdown",
   "id": "3aaa139a-0c24-4695-b5a9-47ff9c2bd461",
   "metadata": {},
   "source": [
    "# Summary: Demand, Generation, Total Interchange"
   ]
  },
  {
   "cell_type": "code",
   "execution_count": null,
   "id": "2a8ca242-5619-4ecb-8794-08f3b7159874",
   "metadata": {},
   "outputs": [],
   "source": [
    "def plot_DGTI(year):\n",
    "    sel = deltas.index.year == year\n",
    "    delta_quantiles = deltas.loc[sel].quantile([0.1, 0.5, 0.9])\n",
    "    deltas_abs = deltas.loc[sel].abs().quantile([0.1, 0.5, 0.9])\n",
    "    median_raw = raw.df.loc[sel].abs().quantile(0.5)\n",
    "    f, ax = figure2(list(reversed(ba_list)), n, delta_quantiles, median_raw, raw)\n",
    "    plt.show()\n",
    "\n",
    "\n",
    "interact(plot_DGTI, year=range(2018, 2025));"
   ]
  },
  {
   "cell_type": "markdown",
   "id": "d8162996-80c1-4fc4-83de-7401aa68d02e",
   "metadata": {},
   "source": [
    "# Summary: Exchanges in the WECC"
   ]
  },
  {
   "cell_type": "code",
   "execution_count": null,
   "id": "1e0cf36f-6ce2-42a1-98ac-56e60b07fb41",
   "metadata": {},
   "outputs": [],
   "source": [
    "def plot_ID_WECC(year):\n",
    "    sel = deltas.index.year == year\n",
    "    deltas_abs = deltas.loc[sel].abs().quantile([0.1, 0.5, 0.9])\n",
    "    median_raw = raw.df.loc[sel].abs().quantile(0.5)\n",
    "    raw_tmp = ge.GraphData(raw.df.loc[sel])\n",
    "    f, ax = figure3(sorted_WECC_BAs, deltas_abs, median_raw, raw_tmp)\n",
    "    plt.show()\n",
    "\n",
    "\n",
    "interact(plot_ID_WECC, year=range(2018, 2025));"
   ]
  },
  {
   "cell_type": "markdown",
   "id": "b7ee1836-188e-4ce5-960b-407c2b6f951c",
   "metadata": {},
   "source": [
    "# Summary: Exchanges in the EIC"
   ]
  },
  {
   "cell_type": "code",
   "execution_count": null,
   "id": "8921cec2-6282-4765-be75-3a8fd256caee",
   "metadata": {},
   "outputs": [],
   "source": [
    "def plot_ID_EIC(year):\n",
    "    sel = deltas.index.year == year\n",
    "    deltas_abs = deltas.loc[sel].abs().quantile([0.1, 0.5, 0.9])\n",
    "    median_raw = raw.df.loc[sel].abs().quantile(0.5)\n",
    "    raw_tmp = ge.GraphData(raw.df.loc[sel])\n",
    "    f, ax = figure3(sorted_not_WECC_BAs, deltas_abs, median_raw, raw_tmp)\n",
    "    plt.show()\n",
    "\n",
    "\n",
    "interact(plot_ID_EIC, year=range(2018, 2025));"
   ]
  },
  {
   "cell_type": "markdown",
   "id": "07bec526-f477-45cf-b644-167bdaf81a29",
   "metadata": {},
   "source": [
    "# Summary: Generation by source"
   ]
  },
  {
   "cell_type": "code",
   "execution_count": null,
   "id": "f7a89bf9-3dfb-403b-9c79-49487b5b364d",
   "metadata": {},
   "outputs": [],
   "source": [
    "def plot_NG_SRC(year):\n",
    "    nr = 13\n",
    "    sel = deltas.index.year == year\n",
    "    deltas_abs = deltas.loc[sel].abs().quantile([0.1, 0.5, 0.9])\n",
    "    median_raw = raw.df.loc[sel].abs().quantile(0.5)\n",
    "    raw_tmp = ge.GraphData(raw.df.loc[sel])\n",
    "    f, ax = figure4(ba_list[0 : 3 * nr], nr, deltas_abs, median_raw, raw)\n",
    "    plt.show()\n",
    "\n",
    "\n",
    "interact(plot_NG_SRC, year=range(2018, 2025));"
   ]
  }
 ],
 "metadata": {
  "kernelspec": {
   "display_name": "Python 3 (ipykernel)",
   "language": "python",
   "name": "python3"
  },
  "language_info": {
   "codemirror_mode": {
    "name": "ipython",
    "version": 3
   },
   "file_extension": ".py",
   "mimetype": "text/x-python",
   "name": "python",
   "nbconvert_exporter": "python",
   "pygments_lexer": "ipython3",
   "version": "3.11.6"
  }
 },
 "nbformat": 4,
 "nbformat_minor": 5
}
