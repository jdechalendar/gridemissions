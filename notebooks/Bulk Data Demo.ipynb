{
 "cells": [
  {
   "cell_type": "code",
   "execution_count": null,
   "id": "eec8b1ca-9039-4a36-9358-7465457f1eab",
   "metadata": {},
   "outputs": [],
   "source": [
    "%load_ext autoreload\n",
    "%autoreload 2\n",
    "%matplotlib inline"
   ]
  },
  {
   "cell_type": "code",
   "execution_count": null,
   "id": "9e81ac72-f791-4529-9775-0ec7fc249a51",
   "metadata": {},
   "outputs": [],
   "source": [
    "import matplotlib.pyplot as plt\n",
    "import pandas as pd\n",
    "import gridemissions as ge\n",
    "from gridemissions.viz import set_plots\n",
    "from gridemissions.viz.reports import timeseries_report\n",
    "\n",
    "COLORS, PAGE_WIDTH, ROW_HEIGHT = set_plots()"
   ]
  },
  {
   "cell_type": "code",
   "execution_count": null,
   "id": "c818ed6b-e8e2-4234-bdcc-b54739596425",
   "metadata": {},
   "outputs": [],
   "source": [
    "folder = ge.config[\"DATA_PATH\"] / \"EIA_Grid_Monitor\" / \"processed\"\n",
    "elec_files = [f for f in folder.iterdir() if f.name.endswith(\"elec.csv\")]\n",
    "co2_files = [f for f in folder.iterdir() if f.name.endswith(\"co2.csv\")]"
   ]
  },
  {
   "cell_type": "code",
   "execution_count": null,
   "id": "ea219dca-c5ee-45d9-8515-0001cab2577d",
   "metadata": {},
   "outputs": [],
   "source": [
    "elec = ge.GraphData(\n",
    "    pd.concat(\n",
    "        [pd.read_csv(path, index_col=0, parse_dates=True) for path in elec_files],\n",
    "        axis=0,\n",
    "    )\n",
    ")\n",
    "co2 = ge.GraphData(\n",
    "    pd.concat(\n",
    "        [pd.read_csv(path, index_col=0, parse_dates=True) for path in co2_files], axis=0\n",
    "    )\n",
    ")\n",
    "co2.df.sort_index(inplace=True)\n",
    "elec.df.sort_index(inplace=True)\n",
    "\n",
    "# Note: we need to drop duplicate indices here because there seems to be duplicates at the beginning/end of the files\n",
    "elec.df = elec.df[~elec.df.index.duplicated(keep=\"last\")]\n",
    "co2.df = co2.df[~co2.df.index.duplicated(keep=\"last\")]"
   ]
  },
  {
   "cell_type": "code",
   "execution_count": null,
   "id": "d822fcf1-0581-4b01-9691-e98374309584",
   "metadata": {},
   "outputs": [],
   "source": [
    "ba = \"MISO\"\n",
    "timeseries_report(co2, elec, regions=[\"MISO\", \"CISO\", \"PJM\"])"
   ]
  },
  {
   "cell_type": "code",
   "execution_count": null,
   "id": "62e8ac59-6007-4d1c-97ce-97a25b10efb3",
   "metadata": {},
   "outputs": [],
   "source": []
  }
 ],
 "metadata": {
  "kernelspec": {
   "display_name": "Python 3 (ipykernel)",
   "language": "python",
   "name": "python3"
  },
  "language_info": {
   "codemirror_mode": {
    "name": "ipython",
    "version": 3
   },
   "file_extension": ".py",
   "mimetype": "text/x-python",
   "name": "python",
   "nbconvert_exporter": "python",
   "pygments_lexer": "ipython3",
   "version": "3.11.6"
  }
 },
 "nbformat": 4,
 "nbformat_minor": 5
}
