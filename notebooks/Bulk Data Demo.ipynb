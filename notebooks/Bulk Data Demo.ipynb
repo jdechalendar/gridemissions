{
 "cells": [
  {
   "cell_type": "code",
   "execution_count": null,
   "id": "eec8b1ca-9039-4a36-9358-7465457f1eab",
   "metadata": {},
   "outputs": [],
   "source": [
    "%load_ext autoreload\n",
    "%autoreload 2\n",
    "%matplotlib inline"
   ]
  },
  {
   "cell_type": "code",
   "execution_count": null,
   "id": "9e81ac72-f791-4529-9775-0ec7fc249a51",
   "metadata": {},
   "outputs": [],
   "source": [
    "import gridemissions as ge\n",
    "from gridemissions.viz import set_plots\n",
    "from gridemissions.viz.reports import timeseries_report\n",
    "\n",
    "COLORS, PAGE_WIDTH, ROW_HEIGHT = set_plots()"
   ]
  },
  {
   "cell_type": "code",
   "execution_count": null,
   "id": "fa4148f6-e1fb-4d12-b97f-ec09eb22cb9c",
   "metadata": {},
   "outputs": [],
   "source": [
    "elec = ge.load_bulk(\"elec\")\n",
    "co2 = ge.load_bulk(\"co2\")"
   ]
  },
  {
   "cell_type": "code",
   "execution_count": null,
   "id": "d822fcf1-0581-4b01-9691-e98374309584",
   "metadata": {},
   "outputs": [],
   "source": [
    "timeseries_report(co2, elec, regions=[\"MISO\", \"CISO\", \"PJM\"])"
   ]
  },
  {
   "cell_type": "code",
   "execution_count": null,
   "id": "62e8ac59-6007-4d1c-97ce-97a25b10efb3",
   "metadata": {},
   "outputs": [],
   "source": []
  }
 ],
 "metadata": {
  "kernelspec": {
   "display_name": "Python 3 (ipykernel)",
   "language": "python",
   "name": "python3"
  },
  "language_info": {
   "codemirror_mode": {
    "name": "ipython",
    "version": 3
   },
   "file_extension": ".py",
   "mimetype": "text/x-python",
   "name": "python",
   "nbconvert_exporter": "python",
   "pygments_lexer": "ipython3",
   "version": "3.11.6"
  }
 },
 "nbformat": 4,
 "nbformat_minor": 5
}
