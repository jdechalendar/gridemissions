{
 "cells": [
  {
   "cell_type": "markdown",
   "metadata": {},
   "source": [
    "# Contents\n",
    "Demo of `gridemissions.viz.reports.cleaning_plot` which can be used to diagnose what happened at different points in the cleaning process."
   ]
  },
  {
   "cell_type": "code",
   "execution_count": null,
   "metadata": {},
   "outputs": [],
   "source": [
    "%load_ext autoreload\n",
    "%autoreload 2\n",
    "%matplotlib inline"
   ]
  },
  {
   "cell_type": "code",
   "execution_count": null,
   "metadata": {},
   "outputs": [],
   "source": [
    "import gridemissions as ge\n",
    "from gridemissions.viz.reports import cleaning_plot\n",
    "from gridemissions.viz import set_plots\n",
    "\n",
    "COLORS, PAGE_WIDTH, ROW_HEIGHT = set_plots()\n",
    "ge.configure_logging(\"ERROR\")"
   ]
  },
  {
   "cell_type": "code",
   "execution_count": null,
   "metadata": {},
   "outputs": [],
   "source": [
    "elec = ge.load_bulk(\"elec\")\n",
    "raw = ge.load_bulk(\"raw\")"
   ]
  },
  {
   "cell_type": "markdown",
   "metadata": {},
   "source": [
    "# Raw data for BPAT\n",
    "The red line in the first subplot indicates a mismatch in demand/trade/generation..."
   ]
  },
  {
   "cell_type": "code",
   "execution_count": null,
   "metadata": {},
   "outputs": [],
   "source": [
    "f, axes = cleaning_plot(raw, \"BPAT\", scale=1e-3, w_balance=True, w_id=True)"
   ]
  },
  {
   "cell_type": "markdown",
   "metadata": {},
   "source": [
    "# How did we adjust data for BPAT?\n",
    "Data are restricted to a smaller time period to make the plots (slightly) easier to read"
   ]
  },
  {
   "cell_type": "code",
   "execution_count": null,
   "metadata": {},
   "outputs": [],
   "source": [
    "sel = raw.df.loc[\"20210101\":\"20220101\"].index\n",
    "raw_tmp = ge.GraphData(raw.df.loc[sel])\n",
    "elec_tmp = ge.GraphData(elec.df.loc[sel])\n",
    "f, axes = cleaning_plot(\n",
    "    raw_tmp, \"BPAT\", other=elec_tmp, w_id=True, scale=1e-3, w_balance=True\n",
    ")"
   ]
  },
  {
   "cell_type": "code",
   "execution_count": null,
   "metadata": {},
   "outputs": [],
   "source": []
  }
 ],
 "metadata": {
  "kernelspec": {
   "display_name": "Python 3 (ipykernel)",
   "language": "python",
   "name": "python3"
  },
  "language_info": {
   "codemirror_mode": {
    "name": "ipython",
    "version": 3
   },
   "file_extension": ".py",
   "mimetype": "text/x-python",
   "name": "python",
   "nbconvert_exporter": "python",
   "pygments_lexer": "ipython3",
   "version": "3.11.6"
  }
 },
 "nbformat": 4,
 "nbformat_minor": 4
}
