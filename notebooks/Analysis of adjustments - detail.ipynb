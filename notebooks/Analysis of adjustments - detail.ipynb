{
 "cells": [
  {
   "cell_type": "code",
   "execution_count": null,
   "id": "373c5614-ec33-4c67-ba12-52572d7a5c19",
   "metadata": {},
   "outputs": [],
   "source": [
    "%load_ext autoreload\n",
    "%autoreload 2\n",
    "%matplotlib inline"
   ]
  },
  {
   "cell_type": "code",
   "execution_count": null,
   "id": "db64a360-9e4a-43e7-b31b-376a10a667d2",
   "metadata": {},
   "outputs": [],
   "source": [
    "from ipywidgets import interact\n",
    "import matplotlib.pyplot as plt\n",
    "import pandas as pd\n",
    "\n",
    "import gridemissions as ge\n",
    "from gridemissions.viz import set_plots\n",
    "from gridemissions.viz.reports import myplot, heatmap"
   ]
  },
  {
   "cell_type": "code",
   "execution_count": null,
   "id": "d2c0fb7e-091f-42f4-b36c-67c46e0cc710",
   "metadata": {},
   "outputs": [],
   "source": [
    "ge.configure_logging(\"ERROR\")\n",
    "COLORS, PAGE_WIDTH, ROW_HEIGHT = set_plots()"
   ]
  },
  {
   "cell_type": "code",
   "execution_count": null,
   "id": "30d04b87-61b2-464a-a022-01a73f2debb1",
   "metadata": {},
   "outputs": [],
   "source": [
    "folder = ge.config[\"DATA_PATH\"] / \"EIA_Grid_Monitor\" / \"processed\"\n",
    "elec_files = [f for f in folder.iterdir() if f.name.endswith(\"elec.csv\")]\n",
    "raw_files = [f for f in folder.iterdir() if f.name.endswith(\"raw.csv\")]\n",
    "\n",
    "elec = ge.GraphData(\n",
    "    pd.concat(\n",
    "        [pd.read_csv(path, index_col=0, parse_dates=True) for path in elec_files],\n",
    "        axis=0,\n",
    "    )\n",
    ")\n",
    "raw = ge.GraphData(\n",
    "    pd.concat(\n",
    "        [pd.read_csv(path, index_col=0, parse_dates=True) for path in raw_files], axis=0\n",
    "    )\n",
    ")\n",
    "raw.df.sort_index(inplace=True)\n",
    "elec.df.sort_index(inplace=True)\n",
    "\n",
    "# Note: we need to drop duplicate indices here because there seems to be duplicates at the beginning/end of the files\n",
    "elec.df = elec.df[~elec.df.index.duplicated(keep=\"last\")]\n",
    "raw.df = raw.df[~raw.df.index.duplicated(keep=\"last\")]"
   ]
  },
  {
   "cell_type": "code",
   "execution_count": null,
   "id": "9e078ec8-f807-4c99-ab99-8dcf48717600",
   "metadata": {},
   "outputs": [],
   "source": [
    "deltas = elec.df - raw.df\n",
    "delta_quantiles = deltas.quantile([0.1, 0.5, 0.9])\n",
    "deltas_abs = deltas.abs().quantile([0.1, 0.5, 0.9])\n",
    "median_raw = raw.df.abs().quantile(0.5)\n",
    "delta_quantiles_pct = delta_quantiles / median_raw * 100"
   ]
  },
  {
   "cell_type": "markdown",
   "id": "87e052d7-dd01-4158-b6df-22181ce0e8b0",
   "metadata": {},
   "source": [
    "# Make plot"
   ]
  },
  {
   "cell_type": "markdown",
   "id": "2f00f9ee-497d-42ef-a3b1-468fbfd12145",
   "metadata": {},
   "source": [
    "Select any timeseries below to see how it was adjusted"
   ]
  },
  {
   "cell_type": "code",
   "execution_count": null,
   "id": "1d2fdc13-9d63-4cfd-9de3-0207fe3ec043",
   "metadata": {},
   "outputs": [],
   "source": [
    "def make_plot(col):\n",
    "    s_abs = deltas[col]\n",
    "    s_rel = s_abs / raw.df[col].abs() * 100\n",
    "\n",
    "    f, (ax1, ax2, ax3) = plt.subplots(3, 1, figsize=(PAGE_WIDTH, ROW_HEIGHT * 3))\n",
    "    ax1.set_title(col)\n",
    "    # Relative plot (divide by demand)\n",
    "    myplot(\n",
    "        ax1,\n",
    "        s_rel,\n",
    "        COLORS[0],\n",
    "        col,\n",
    "    )\n",
    "    ax1.set_ylabel(\"%\")\n",
    "\n",
    "    # Absolute plot (in MW)\n",
    "    myplot(\n",
    "        ax2,\n",
    "        s_abs,\n",
    "        COLORS[0],\n",
    "        col,\n",
    "    )\n",
    "    ax2.set_ylabel(\"MW\")\n",
    "\n",
    "    # Heatmap (in MW)\n",
    "    heatmap(\n",
    "        s_abs,\n",
    "        fax=(f, ax3),\n",
    "        cmap=\"viridis\",\n",
    "        cbar_label=\"MW\",\n",
    "        transpose=True,\n",
    "    )\n",
    "    f.tight_layout()\n",
    "    plt.show()\n",
    "\n",
    "\n",
    "interact(make_plot, col=list(deltas.columns));"
   ]
  }
 ],
 "metadata": {
  "kernelspec": {
   "display_name": "Python 3 (ipykernel)",
   "language": "python",
   "name": "python3"
  },
  "language_info": {
   "codemirror_mode": {
    "name": "ipython",
    "version": 3
   },
   "file_extension": ".py",
   "mimetype": "text/x-python",
   "name": "python",
   "nbconvert_exporter": "python",
   "pygments_lexer": "ipython3",
   "version": "3.11.6"
  }
 },
 "nbformat": 4,
 "nbformat_minor": 5
}
