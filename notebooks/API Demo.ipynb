{
 "cells": [
  {
   "cell_type": "code",
   "execution_count": null,
   "metadata": {},
   "outputs": [],
   "source": [
    "%matplotlib inline\n",
    "import matplotlib.pyplot as plt\n",
    "\n",
    "import pandas as pd\n",
    "from io import StringIO\n",
    "\n",
    "import gridemissions as ge\n",
    "from gridemissions import api, load, viz"
   ]
  },
  {
   "cell_type": "code",
   "execution_count": null,
   "metadata": {},
   "outputs": [],
   "source": [
    "COLORS, PAGE_WIDTH, ROW_HEIGHT = viz.set_plots()"
   ]
  },
  {
   "cell_type": "markdown",
   "metadata": {},
   "source": [
    "## Download electricity generation data for MISO, ERCO, CISO  for a year"
   ]
  },
  {
   "cell_type": "code",
   "execution_count": null,
   "metadata": {},
   "outputs": [],
   "source": [
    "start, end = \"20180701\", \"20190701\""
   ]
  },
  {
   "cell_type": "code",
   "execution_count": null,
   "metadata": {},
   "outputs": [],
   "source": [
    "data = api.retrieve(\n",
    "    dataset=\"elec\",\n",
    "    region=[\"MISO\", \"CISO\", \"ERCO\"],\n",
    "    start=start,\n",
    "    end=end,\n",
    "    field=\"NG\",\n",
    ")\n",
    "data.head()"
   ]
  },
  {
   "cell_type": "markdown",
   "metadata": {},
   "source": [
    "## Download and plot carbon intensities for CISO and ERCO"
   ]
  },
  {
   "cell_type": "code",
   "execution_count": null,
   "metadata": {},
   "outputs": [],
   "source": [
    "regions = [\"CISO\", \"ERCO\"]\n",
    "co2i_NG = api.retrieve(dataset=\"co2i\", region=regions, field=\"NG\", start=start, end=end)\n",
    "co2i_D = api.retrieve(dataset=\"co2i\", region=regions, field=\"D\", start=start, end=end)\n",
    "\n",
    "f, ax = plt.subplots(figsize=(PAGE_WIDTH, ROW_HEIGHT))\n",
    "for i, r in enumerate(regions):\n",
    "    ax.plot(co2i_D[r], color=COLORS[i], label=f\"{r} - cons.\")\n",
    "    ax.plot(co2i_NG[r], color=COLORS[i], ls=\"--\", label=f\"{r} - prod.\")\n",
    "ax.set_ylabel(\"kg/MWh\")\n",
    "ax.legend()\n",
    "f.autofmt_xdate()"
   ]
  },
  {
   "cell_type": "markdown",
   "metadata": {},
   "source": [
    "## Download electricity data for all balancing areas for the past 24 hours"
   ]
  },
  {
   "cell_type": "code",
   "execution_count": null,
   "metadata": {},
   "outputs": [],
   "source": [
    "data = api.retrieve(dataset=\"elec\")\n",
    "data = load.GraphData(data)\n",
    "\n",
    "# The underlying data are stored as a pd.DataFrame in the .df attribute\n",
    "# data.df.head()"
   ]
  },
  {
   "cell_type": "markdown",
   "metadata": {},
   "source": [
    "The `GraphData.get_data` function can be used to retrieve all data columns for a field or for a region:"
   ]
  },
  {
   "cell_type": "code",
   "execution_count": null,
   "metadata": {},
   "outputs": [],
   "source": [
    "data.get_data(field=\"D\").head()"
   ]
  },
  {
   "cell_type": "code",
   "execution_count": null,
   "metadata": {},
   "outputs": [],
   "source": [
    "data.get_data(region=\"CISO\").head()"
   ]
  },
  {
   "cell_type": "code",
   "execution_count": null,
   "metadata": {},
   "outputs": [],
   "source": [
    "from gridemissions.viz.reports import cleaning_plot\n",
    "\n",
    "region = \"MISO\"\n",
    "f, axes = cleaning_plot(\n",
    "    data, region, w_id=True, scale=1e-3, w_balance=True, summarize=False\n",
    ")"
   ]
  },
  {
   "cell_type": "code",
   "execution_count": null,
   "metadata": {},
   "outputs": [],
   "source": []
  }
 ],
 "metadata": {
  "kernelspec": {
   "display_name": "Python 3 (ipykernel)",
   "language": "python",
   "name": "python3"
  },
  "language_info": {
   "codemirror_mode": {
    "name": "ipython",
    "version": 3
   },
   "file_extension": ".py",
   "mimetype": "text/x-python",
   "name": "python",
   "nbconvert_exporter": "python",
   "pygments_lexer": "ipython3",
   "version": "3.9.8"
  }
 },
 "nbformat": 4,
 "nbformat_minor": 4
}
