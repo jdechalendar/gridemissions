{
 "cells": [
  {
   "cell_type": "code",
   "execution_count": null,
   "metadata": {},
   "outputs": [],
   "source": [
    "%matplotlib inline\n",
    "import matplotlib.pyplot as plt\n",
    "from os.path import join\n",
    "\n",
    "import gridemissions\n",
    "from gridemissions.load import BaData\n",
    "from gridemissions.viz.reports import cleaning_plot"
   ]
  },
  {
   "cell_type": "code",
   "execution_count": null,
   "metadata": {},
   "outputs": [],
   "source": [
    "from gridemissions.viz import set_plots\n",
    "\n",
    "COLORS, PAGE_WIDTH, ROW_HEIGHT = set_plots()"
   ]
  },
  {
   "cell_type": "code",
   "execution_count": null,
   "metadata": {},
   "outputs": [],
   "source": [
    "# Note: this assumes you have set the variable \"APEN_PATH\" in your config file to point to the data\n",
    "file_name = join(gridemissions.config[\"APEN_PATH\"], \"data\", \"EBA_opt.csv\")\n",
    "opt = BaData(fileNm=file_name)"
   ]
  },
  {
   "cell_type": "code",
   "execution_count": null,
   "metadata": {},
   "outputs": [],
   "source": [
    "ba = \"MISO\"\n",
    "f, axes = cleaning_plot(opt, ba, w_id=True, scale=1e-3, w_balance=True)"
   ]
  },
  {
   "cell_type": "code",
   "execution_count": null,
   "metadata": {},
   "outputs": [],
   "source": []
  }
 ],
 "metadata": {
  "kernelspec": {
   "display_name": "Python3.8",
   "language": "python",
   "name": "python3.8"
  },
  "language_info": {
   "codemirror_mode": {
    "name": "ipython",
    "version": 3
   },
   "file_extension": ".py",
   "mimetype": "text/x-python",
   "name": "python",
   "nbconvert_exporter": "python",
   "pygments_lexer": "ipython3",
   "version": "3.8.5"
  }
 },
 "nbformat": 4,
 "nbformat_minor": 4
}
