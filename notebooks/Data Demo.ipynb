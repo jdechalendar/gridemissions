{
 "cells": [
  {
   "cell_type": "code",
   "execution_count": null,
   "metadata": {},
   "outputs": [],
   "source": [
    "%load_ext autoreload\n",
    "%autoreload 2\n",
    "%matplotlib inline\n",
    "import matplotlib.pyplot as plt\n",
    "import pandas as pd\n",
    "\n",
    "import gridemissions\n",
    "from gridemissions.load import BaData\n",
    "from gridemissions.viz.reports import cleaning_plot"
   ]
  },
  {
   "cell_type": "code",
   "execution_count": null,
   "metadata": {},
   "outputs": [],
   "source": [
    "from gridemissions.papers.physics_informed import figure1"
   ]
  },
  {
   "cell_type": "code",
   "execution_count": null,
   "metadata": {},
   "outputs": [],
   "source": [
    "from gridemissions.viz import set_plots\n",
    "\n",
    "COLORS, PAGE_WIDTH, ROW_HEIGHT = set_plots()"
   ]
  },
  {
   "cell_type": "markdown",
   "metadata": {},
   "source": [
    "# Load some data\n",
    "This assumes you have downladed data to `gridemissions.config[\"DATA_PATH\"]`"
   ]
  },
  {
   "cell_type": "code",
   "execution_count": null,
   "metadata": {},
   "outputs": [],
   "source": [
    "file_name = gridemissions.config[\"DATA_PATH\"] / \"EBA_elec.csv\"\n",
    "elec = BaData(fileNm=file_name, variable=\"E\")\n",
    "\n",
    "file_name = gridemissions.config[\"DATA_PATH\"] / \"EBA_raw.csv\"\n",
    "raw = BaData(fileNm=file_name, variable=\"E\")"
   ]
  },
  {
   "cell_type": "markdown",
   "metadata": {},
   "source": [
    "# \"Cleaning plot\""
   ]
  },
  {
   "cell_type": "code",
   "execution_count": null,
   "metadata": {},
   "outputs": [],
   "source": [
    "ba = \"MISO\"\n",
    "f, axes = cleaning_plot(elec, ba, w_id=True, scale=1e-3, w_balance=True)"
   ]
  },
  {
   "cell_type": "code",
   "execution_count": null,
   "metadata": {},
   "outputs": [],
   "source": [
    "start = pd.to_datetime(\"20220420\")\n",
    "end = pd.to_datetime(\"20220425\")\n",
    "\n",
    "f, ax = plt.subplots()\n",
    "ax.plot(\n",
    "    elec.df.loc[start:end, \"EBA.CISO-ALL.D.H\"] / 1e3,\n",
    "    label=\"energy.stanford.edu/gridemissions\",\n",
    ")\n",
    "ax.plot(raw.df.loc[start:end, \"EBA.CISO-ALL.D.H\"] / 1e3, label=\"raw\")\n",
    "f.autofmt_xdate()\n",
    "ax.legend(loc=6, bbox_to_anchor=(1, 0.5))"
   ]
  },
  {
   "cell_type": "markdown",
   "metadata": {},
   "source": [
    "# Diagnosing discrepancies between raw and reconciled electricity data\n",
    "This corresponds to figure 1 in \"A Physics-informed data reconciliation framework for real-time electricity and emissions tracking\", by Jacques de Chalendar and Sally Benson ([arxiv](https://arxiv.org/abs/2103.05663))."
   ]
  },
  {
   "cell_type": "code",
   "execution_count": null,
   "metadata": {},
   "outputs": [],
   "source": [
    "start, end = (pd.to_datetime(\"20220420\"), pd.to_datetime(\"20220425\"))\n",
    "ba = \"CISO\"\n",
    "\n",
    "f, ax = figure1(ba, BaData(df=raw.df.loc[start:end]), BaData(df=elec.df.loc[start:end]))"
   ]
  },
  {
   "cell_type": "markdown",
   "metadata": {},
   "source": [
    "# Load some CO2 data"
   ]
  },
  {
   "cell_type": "code",
   "execution_count": null,
   "metadata": {},
   "outputs": [],
   "source": [
    "file_name = gridemissions.config[\"DATA_PATH\"] / \"EBA_co2.csv\"\n",
    "co2 = BaData(fileNm=file_name, variable=\"CO2\")"
   ]
  },
  {
   "cell_type": "code",
   "execution_count": null,
   "metadata": {},
   "outputs": [],
   "source": [
    "start = pd.to_datetime(\"20211108\")\n",
    "end = pd.to_datetime(\"20211120\")\n",
    "\n",
    "f, ax = plt.subplots(figsize=(PAGE_WIDTH, ROW_HEIGHT))\n",
    "ax.plot(co2.df.loc[start:end, \"CO2_CISO_D\"] / 1e6)\n",
    "ax.set_ylabel(\"kton CO2\")\n",
    "f.autofmt_xdate()"
   ]
  },
  {
   "cell_type": "code",
   "execution_count": null,
   "metadata": {},
   "outputs": [],
   "source": []
  }
 ],
 "metadata": {
  "kernelspec": {
   "display_name": "Python [conda env:py38] *",
   "language": "python",
   "name": "conda-env-py38-py"
  },
  "language_info": {
   "codemirror_mode": {
    "name": "ipython",
    "version": 3
   },
   "file_extension": ".py",
   "mimetype": "text/x-python",
   "name": "python",
   "nbconvert_exporter": "python",
   "pygments_lexer": "ipython3",
   "version": "3.8.5"
  }
 },
 "nbformat": 4,
 "nbformat_minor": 4
}
