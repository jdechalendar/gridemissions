{
 "cells": [
  {
   "cell_type": "markdown",
   "id": "c9504dc7-bc47-43bc-8960-7d12d5537e2e",
   "metadata": {
    "tags": []
   },
   "source": [
    "# Contents\n",
    "Supporting information for Supplementary Table 3 in \"Life cycle comparison of multi-step lithium-ion battery recycling processes to conventional mining refinement\", by Michael L. Machala, Xi Chen, Samantha P. Bunke, Gregory Forbes, Akarys Yegizbay, Jacques A. de Chalendar, Inês L. Azevedo, Sally M. Benson, and William A. Tarpeh.\n",
    "1. Generate 2019 grid mix in CISO, NEVP, WACM, BPAT, US\n",
    "2. Compute consumption-based environmental impact factors in 2019 for the same balancing areas. Technology specific environmental impact factors are sourced from `technology EFs.csv` \n",
    "\n",
    "To reproduce these calculations,\n",
    "* The [`gridemissions` package](https://github.com/jdechalendar/gridemissions) needs to be available to your Python installation,\n",
    "* `\"EBA_elec.csv\"` needs to be downloaded from [energy.stanford.edu/gridemissions](energy.stanford.edu/gridemissions) and stored at `gridemissions.config[\"DATA_PATH\"]`.\n",
    "See the README for the `gridemissions` repository for how to configure your `DATA_PATH`."
   ]
  },
  {
   "cell_type": "code",
   "execution_count": null,
   "id": "8dd21c79-68e6-462a-99e5-346d0fc7cd60",
   "metadata": {},
   "outputs": [],
   "source": [
    "import sys\n",
    "\n",
    "print(sys.executable)"
   ]
  },
  {
   "cell_type": "code",
   "execution_count": null,
   "id": "18fdb5d1-0d74-45ab-a9a2-ce42350a6376",
   "metadata": {},
   "outputs": [],
   "source": [
    "%load_ext autoreload\n",
    "%autoreload 2\n",
    "%matplotlib inline\n",
    "import matplotlib.pyplot as plt\n",
    "import pandas as pd\n",
    "\n",
    "import gridemissions\n",
    "from gridemissions.load import BaData\n",
    "from gridemissions.viz.reports import cleaning_plot\n",
    "from gridemissions import eia_api\n",
    "from gridemissions.emissions import BaDataEmissionsCalc"
   ]
  },
  {
   "cell_type": "code",
   "execution_count": null,
   "id": "72450520-8ab2-4a83-9033-348b809a8213",
   "metadata": {},
   "outputs": [],
   "source": [
    "gridemissions.config[\"DATA_PATH\"]"
   ]
  },
  {
   "cell_type": "markdown",
   "id": "31511671-3285-4168-a204-4501d527277d",
   "metadata": {
    "tags": []
   },
   "source": [
    "# 1. 2019 grid mix in CISO, NEVP, WACM, BPAT, US"
   ]
  },
  {
   "cell_type": "code",
   "execution_count": null,
   "id": "ff03b286-a033-42b1-bfd4-3d74a67f6d47",
   "metadata": {},
   "outputs": [],
   "source": [
    "file_name_elec = gridemissions.config[\"DATA_PATH\"] / \"EBA_elec.csv\"\n",
    "\n",
    "elec = BaData(fileNm=file_name_elec)\n",
    "\n",
    "start = pd.to_datetime(\"20190101T00Z\")\n",
    "end = pd.to_datetime(\"20200101T00Z\")\n",
    "bas = [\"CISO\", \"NEVP\", \"WACM\", \"BPAT\"]\n",
    "\n",
    "\n",
    "def get_grid_mix(ba):\n",
    "    NG_cols = sum((elec.get_cols(r=ba, field=f\"SRC_{src}\") for src in eia_api.SRC), [])\n",
    "    NG_cols = [c for c in NG_cols if c in elec.df.columns]\n",
    "    grid_mix_2019 = elec.df.loc[start:end, NG_cols].sum()\n",
    "    grid_mix_2019.index = grid_mix_2019.index.map(lambda x: x.split(\".\")[3])\n",
    "    # grid_mix_2019 = grid_mix_2019 / grid_mix_2019.sum()\n",
    "    return grid_mix_2019\n",
    "\n",
    "\n",
    "grid_mixes_all = pd.DataFrame({ba: get_grid_mix(ba) for ba in elec.regions}).fillna(0.0)\n",
    "grid_mix_us = grid_mixes_all.sum(axis=1)\n",
    "grid_mix_us /= grid_mix_us.sum()\n",
    "\n",
    "grid_mixes = grid_mixes_all[bas].copy()\n",
    "grid_mixes /= grid_mixes.sum()\n",
    "grid_mixes.loc[:, \"US\"] = grid_mix_us\n",
    "grid_mixes.loc[\n",
    "    [\"WAT\", \"NUC\", \"SUN\", \"NG\", \"WND\", \"COL\", \"OIL\", \"BIO\", \"GEO\", \"OTH\"]\n",
    "].to_csv(\"2019_grid_mixes.csv\")"
   ]
  },
  {
   "cell_type": "markdown",
   "id": "bd2b7f41-0395-4336-88e2-12e14cb7d583",
   "metadata": {},
   "source": [
    "# 2. Consumption-based environmental impact factors in 2019"
   ]
  },
  {
   "cell_type": "code",
   "execution_count": null,
   "id": "177e6221-17ae-4c55-8ff6-b14e46a7c4c1",
   "metadata": {},
   "outputs": [],
   "source": [
    "file_name_elec = gridemissions.config[\"DATA_PATH\"] / \"EBA_elec.csv\"\n",
    "file_name_co2 = gridemissions.config[\"DATA_PATH\"] / \"EBA_co2.csv\"\n",
    "\n",
    "elec = BaData(fileNm=file_name_elec)\n",
    "co2 = BaData(fileNm=file_name_co2, variable=\"CO2\")"
   ]
  },
  {
   "cell_type": "code",
   "execution_count": null,
   "id": "32fda9ea-4683-4903-96da-cbf89ac9edd6",
   "metadata": {},
   "outputs": [],
   "source": [
    "start = pd.to_datetime(\"20190101T00Z\")\n",
    "end = pd.to_datetime(\"20200101T00Z\")\n",
    "\n",
    "# Hack: Remove CFE from dataset before this date\n",
    "CFE_cutoff_date = pd.to_datetime(\"20210128T20Z\")\n",
    "non_CFE_cols = [c for c in elec.df.columns if not ((\"CFE-\" in c) or (\"-CFE\" in c))]\n",
    "\n",
    "# Remove all columns with NaNs?\n",
    "cols = [\n",
    "    c\n",
    "    for c in non_CFE_cols\n",
    "    if c not in [\"EBA.GRID-ALL.NG.OTH.H\", \"EBA.IPCO-ALL.NG.COL.H\"]\n",
    "]\n",
    "\n",
    "if (start < CFE_cutoff_date) and (end < CFE_cutoff_date):\n",
    "    mini_elec = BaData(df=elec.df.loc[start:end, cols])\n",
    "elif (start < CFE_cutoff_date) and (end > CFE_cutoff_date):\n",
    "    raise ValueError(\"Not supported\")\n",
    "else:\n",
    "    mini_elec = BaData(df=elec.df.loc[start:end])"
   ]
  },
  {
   "cell_type": "code",
   "execution_count": null,
   "id": "ad9619a6-b374-45cc-849b-28918e75869b",
   "metadata": {},
   "outputs": [],
   "source": [
    "EFs = pd.read_csv(\"technology EFs.csv\", index_col=0).fillna(0.0)\n",
    "EFs.loc[\"UNK\"] = EFs.loc[\"OTH\"]"
   ]
  },
  {
   "cell_type": "code",
   "execution_count": null,
   "id": "708bc902-d877-4fa1-ac04-a4130f67564b",
   "metadata": {},
   "outputs": [],
   "source": [
    "def get_consumption_efs(poll):\n",
    "    co2_calc = BaDataEmissionsCalc(mini_elec, poll=poll, EF=EFs[poll])\n",
    "    co2_calc.process()\n",
    "\n",
    "    poll_data = co2_calc.poll_data\n",
    "    polli_data = pd.DataFrame(\n",
    "        {\n",
    "            ba: (\n",
    "                poll_data.df.loc[\n",
    "                    start:end, poll_data.get_cols(ba, field=\"D\")\n",
    "                ].values.flatten()\n",
    "                / elec.df.loc[start:end, elec.get_cols(ba, field=\"D\")].values.flatten()\n",
    "            )\n",
    "            for ba in poll_data.regions\n",
    "        },\n",
    "        index=poll_data.df.loc[start:end].index,\n",
    "    )\n",
    "\n",
    "    return polli_data[bas].mean()\n",
    "\n",
    "\n",
    "pd.DataFrame({poll: get_consumption_efs(poll) for poll in EFs.columns}).to_csv(\n",
    "    \"2019 consumption EFs.csv\"\n",
    ")"
   ]
  }
 ],
 "metadata": {
  "kernelspec": {
   "display_name": "Python 3",
   "language": "python",
   "name": "python3"
  },
  "language_info": {
   "codemirror_mode": {
    "name": "ipython",
    "version": 3
   },
   "file_extension": ".py",
   "mimetype": "text/x-python",
   "name": "python",
   "nbconvert_exporter": "python",
   "pygments_lexer": "ipython3",
   "version": "3.8.5"
  }
 },
 "nbformat": 4,
 "nbformat_minor": 5
}
