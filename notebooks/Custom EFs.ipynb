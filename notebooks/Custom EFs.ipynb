{
 "cells": [
  {
   "cell_type": "markdown",
   "id": "c9504dc7-bc47-43bc-8960-7d12d5537e2e",
   "metadata": {},
   "source": [
    "# Contents\n",
    "* 2019 grid mix in CISO, NEVP, WACM, BPAT, US\n",
    "* Consumption emissions factors in 2019 for the same balancing areas using custom technology-specific emissions factors\n",
    "* Some drafting work\n",
    "\n",
    "# TODOs left for a future date\n",
    "* Deal with CFE (Mexico) issue in a cleaner way - ideally in the consumption emissions function. Should unit tests to help for this issue\n",
    "* Make extraction of EFs from calc easier - Have the corresponding dataframe exposed as an attribute from BaDataEmissionsCalc?\n",
    "* Make the code faster? I am getting a performance warning from pandas."
   ]
  },
  {
   "cell_type": "code",
   "execution_count": null,
   "id": "8dd21c79-68e6-462a-99e5-346d0fc7cd60",
   "metadata": {},
   "outputs": [],
   "source": [
    "import sys\n",
    "\n",
    "print(sys.executable)"
   ]
  },
  {
   "cell_type": "code",
   "execution_count": null,
   "id": "18fdb5d1-0d74-45ab-a9a2-ce42350a6376",
   "metadata": {},
   "outputs": [],
   "source": [
    "%load_ext autoreload\n",
    "%autoreload 2\n",
    "%matplotlib inline\n",
    "import matplotlib.pyplot as plt\n",
    "import pandas as pd\n",
    "\n",
    "import gridemissions\n",
    "from gridemissions.load import BaData\n",
    "from gridemissions.viz.reports import cleaning_plot\n",
    "from gridemissions import eia_api\n",
    "from gridemissions.emissions import BaDataEmissionsCalc"
   ]
  },
  {
   "cell_type": "code",
   "execution_count": null,
   "id": "72450520-8ab2-4a83-9033-348b809a8213",
   "metadata": {},
   "outputs": [],
   "source": [
    "gridemissions.config[\"DATA_PATH\"]"
   ]
  },
  {
   "cell_type": "markdown",
   "id": "31511671-3285-4168-a204-4501d527277d",
   "metadata": {
    "tags": []
   },
   "source": [
    "# 2019 grid mix in CISO, NEVP, WACM, BPAT, US"
   ]
  },
  {
   "cell_type": "code",
   "execution_count": null,
   "id": "ff03b286-a033-42b1-bfd4-3d74a67f6d47",
   "metadata": {},
   "outputs": [],
   "source": [
    "file_name_elec = gridemissions.config[\"DATA_PATH\"] / \"EBA_elec.csv\"\n",
    "\n",
    "elec = BaData(fileNm=file_name_elec)\n",
    "\n",
    "start = pd.to_datetime(\"20190101T00Z\")\n",
    "end = pd.to_datetime(\"20200101T00Z\")\n",
    "bas = [\"CISO\", \"NEVP\", \"WACM\", \"BPAT\"]\n",
    "\n",
    "\n",
    "def get_grid_mix(ba):\n",
    "    NG_cols = sum((elec.get_cols(r=ba, field=f\"SRC_{src}\") for src in eia_api.SRC), [])\n",
    "    NG_cols = [c for c in NG_cols if c in elec.df.columns]\n",
    "    grid_mix_2019 = elec.df.loc[start:end, NG_cols].sum()\n",
    "    grid_mix_2019.index = grid_mix_2019.index.map(lambda x: x.split(\".\")[3])\n",
    "    # grid_mix_2019 = grid_mix_2019 / grid_mix_2019.sum()\n",
    "    return grid_mix_2019\n",
    "\n",
    "\n",
    "grid_mixes_all = pd.DataFrame({ba: get_grid_mix(ba) for ba in elec.regions}).fillna(0.0)\n",
    "grid_mix_us = grid_mixes_all.sum(axis=1)\n",
    "grid_mix_us /= grid_mix_us.sum()\n",
    "\n",
    "grid_mixes = grid_mixes_all[bas].copy()\n",
    "grid_mixes /= grid_mixes.sum()\n",
    "grid_mixes.loc[:, \"US\"] = grid_mix_us\n",
    "grid_mixes.loc[\n",
    "    [\"WAT\", \"NUC\", \"SUN\", \"NG\", \"WND\", \"COL\", \"OIL\", \"BIO\", \"GEO\", \"OTH\"]\n",
    "].to_csv(\"2019_grid_mixes.csv\")"
   ]
  },
  {
   "cell_type": "markdown",
   "id": "bd2b7f41-0395-4336-88e2-12e14cb7d583",
   "metadata": {},
   "source": [
    "# Custom Emissions Factors"
   ]
  },
  {
   "cell_type": "markdown",
   "id": "fefe21b9-9607-46c3-a899-34f75d033f88",
   "metadata": {},
   "source": [
    "# Load data"
   ]
  },
  {
   "cell_type": "code",
   "execution_count": null,
   "id": "177e6221-17ae-4c55-8ff6-b14e46a7c4c1",
   "metadata": {},
   "outputs": [],
   "source": [
    "file_name_elec = gridemissions.config[\"DATA_PATH\"] / \"EBA_elec.csv\"\n",
    "file_name_co2 = gridemissions.config[\"DATA_PATH\"] / \"EBA_co2.csv\"\n",
    "\n",
    "elec = BaData(fileNm=file_name_elec)\n",
    "co2 = BaData(fileNm=file_name_co2, variable=\"CO2\")"
   ]
  },
  {
   "cell_type": "code",
   "execution_count": null,
   "id": "32fda9ea-4683-4903-96da-cbf89ac9edd6",
   "metadata": {},
   "outputs": [],
   "source": [
    "start = pd.to_datetime(\"20190101T00Z\")\n",
    "end = pd.to_datetime(\"20200101T00Z\")\n",
    "\n",
    "# Hack: Remove CFE from dataset before this date\n",
    "CFE_cutoff_date = pd.to_datetime(\"20210128T20Z\")\n",
    "non_CFE_cols = [c for c in elec.df.columns if not ((\"CFE-\" in c) or (\"-CFE\" in c))]\n",
    "\n",
    "# Remove all columns with NaNs?\n",
    "cols = [\n",
    "    c\n",
    "    for c in non_CFE_cols\n",
    "    if c not in [\"EBA.GRID-ALL.NG.OTH.H\", \"EBA.IPCO-ALL.NG.COL.H\"]\n",
    "]\n",
    "\n",
    "if (start < CFE_cutoff_date) and (end < CFE_cutoff_date):\n",
    "    mini_elec = BaData(df=elec.df.loc[start:end, cols])\n",
    "elif (start < CFE_cutoff_date) and (end > CFE_cutoff_date):\n",
    "    raise ValueError(\"Not supported\")\n",
    "else:\n",
    "    mini_elec = BaData(df=elec.df.loc[start:end])"
   ]
  },
  {
   "cell_type": "code",
   "execution_count": null,
   "id": "ad9619a6-b374-45cc-849b-28918e75869b",
   "metadata": {},
   "outputs": [],
   "source": [
    "EFs = pd.read_csv(\"technology EFs.csv\", index_col=0).fillna(0.0)\n",
    "EFs.loc[\"UNK\"] = EFs.loc[\"OTH\"]"
   ]
  },
  {
   "cell_type": "code",
   "execution_count": null,
   "id": "708bc902-d877-4fa1-ac04-a4130f67564b",
   "metadata": {},
   "outputs": [],
   "source": [
    "def get_consumption_efs(poll):\n",
    "    co2_calc = BaDataEmissionsCalc(mini_elec, poll=poll, EF=EFs[poll])\n",
    "    co2_calc.process()\n",
    "\n",
    "    poll_data = co2_calc.poll_data\n",
    "    polli_data = pd.DataFrame(\n",
    "        {\n",
    "            ba: (\n",
    "                poll_data.df.loc[\n",
    "                    start:end, poll_data.get_cols(ba, field=\"D\")\n",
    "                ].values.flatten()\n",
    "                / elec.df.loc[start:end, elec.get_cols(ba, field=\"D\")].values.flatten()\n",
    "            )\n",
    "            for ba in poll_data.regions\n",
    "        },\n",
    "        index=poll_data.df.loc[start:end].index,\n",
    "    )\n",
    "\n",
    "    return polli_data[bas].mean()\n",
    "\n",
    "\n",
    "pd.DataFrame({poll: get_consumption_efs(poll) for poll in EFs.columns}).to_csv(\n",
    "    \"2019 consumption EFs.csv\"\n",
    ")"
   ]
  },
  {
   "cell_type": "code",
   "execution_count": null,
   "id": "9112b16b-cef1-49ec-a355-b3beda092bbb",
   "metadata": {},
   "outputs": [],
   "source": [
    "raise"
   ]
  },
  {
   "cell_type": "code",
   "execution_count": null,
   "id": "1b61f9ae-2e27-416e-9a9e-680371e7617f",
   "metadata": {},
   "outputs": [],
   "source": []
  },
  {
   "cell_type": "code",
   "execution_count": null,
   "id": "9f562aea-b149-49e3-905d-929e0e28a32f",
   "metadata": {},
   "outputs": [],
   "source": []
  },
  {
   "cell_type": "markdown",
   "id": "fc79eb55-7be2-422d-975b-e437eae8e0a3",
   "metadata": {},
   "source": [
    "# Sanity check: rerun emissions calc from elec data\n",
    "We should get the same result...\n",
    "\n",
    "## Same result\n",
    "start = pd.to_datetime(\"20220101\")  \n",
    "end = pd.to_datetime(\"20220102\")\n",
    "\n",
    "## Different result\n",
    "start = pd.to_datetime(\"20200101\")  \n",
    "end = pd.to_datetime(\"20200102\")  \n",
    "There is a warning about some NaNs being set to 0 for this one - could this be the issue? Need to check this as this is making it impossible to get data before 2019. Was this the issue with imports from Mexico? Check if there are columns missing in the full dataset. If the number of BAs changed at different points in time, that could be causing the code to break. I may have seen this before..."
   ]
  },
  {
   "cell_type": "code",
   "execution_count": null,
   "id": "6ec56d17-e6c8-4fd4-b49f-dc0596b3aafc",
   "metadata": {},
   "outputs": [],
   "source": [
    "elec.df.head()"
   ]
  },
  {
   "cell_type": "markdown",
   "id": "cae74341-592b-435f-bac3-1c4dc8d179d0",
   "metadata": {},
   "source": [
    "# Issue with columns that were introduced later"
   ]
  },
  {
   "cell_type": "code",
   "execution_count": null,
   "id": "486fe9e4-a43e-4fb6-864c-f0295d74db80",
   "metadata": {},
   "outputs": [],
   "source": [
    "f, ax = plt.subplots()\n",
    "for i, col in enumerate(elec.df.loc[:, elec.df.isna().sum() > 0].columns):\n",
    "    ax.plot((1 - elec.df.loc[:, col].isna()) * (i + 1), label=col)\n",
    "ax.legend(loc=6, bbox_to_anchor=(1.0, 0.5))\n",
    "f.autofmt_xdate()"
   ]
  },
  {
   "cell_type": "code",
   "execution_count": null,
   "id": "b1065714-b9ef-4f21-b3d1-b1b0df817398",
   "metadata": {},
   "outputs": [],
   "source": [
    "elec.df.loc[:, elec.df.isna().sum() > 0].columns"
   ]
  },
  {
   "cell_type": "code",
   "execution_count": null,
   "id": "64eaef35-2b34-4ffb-bb69-89b0c51f0985",
   "metadata": {},
   "outputs": [],
   "source": [
    "start = pd.to_datetime(\"20190101T00Z\")\n",
    "end = pd.to_datetime(\"20200101T00Z\")\n",
    "\n",
    "# Hack: Remove CFE from dataset before this date\n",
    "CFE_cutoff_date = pd.to_datetime(\"20210128T20Z\")\n",
    "non_CFE_cols = [c for c in elec.df.columns if not ((\"CFE-\" in c) or (\"-CFE\" in c))]\n",
    "\n",
    "# Remove all columns with NaNs?\n",
    "cols = [\n",
    "    c\n",
    "    for c in non_CFE_cols\n",
    "    if c not in [\"EBA.GRID-ALL.NG.OTH.H\", \"EBA.IPCO-ALL.NG.COL.H\"]\n",
    "]\n",
    "\n",
    "if (start < CFE_cutoff_date) and (end < CFE_cutoff_date):\n",
    "    mini_elec = BaData(df=elec.df.loc[start:end, cols])\n",
    "elif (start < CFE_cutoff_date) and (end > CFE_cutoff_date):\n",
    "    raise ValueError(\"Not supported\")\n",
    "else:\n",
    "    mini_elec = BaData(df=elec.df.loc[start:end])"
   ]
  },
  {
   "cell_type": "code",
   "execution_count": null,
   "id": "ee154310-cdb8-4d20-8552-5cd5056d94c4",
   "metadata": {},
   "outputs": [],
   "source": [
    "mini_elec.df"
   ]
  },
  {
   "cell_type": "code",
   "execution_count": null,
   "id": "d22cb646-b54a-41a5-b372-04a7f36561e8",
   "metadata": {},
   "outputs": [],
   "source": []
  },
  {
   "cell_type": "code",
   "execution_count": null,
   "id": "629e5532-bfd1-45eb-91b6-677d19795220",
   "metadata": {},
   "outputs": [],
   "source": [
    "co2_calc = BaDataEmissionsCalc(mini_elec)\n",
    "co2_calc.process()\n",
    "co2_calc.poll_data.df"
   ]
  },
  {
   "cell_type": "code",
   "execution_count": null,
   "id": "356eb89f-f4a2-46bf-97e4-e40e7c29283d",
   "metadata": {},
   "outputs": [],
   "source": [
    "co2.df.loc[start:end, co2_calc.poll_data.df.columns]"
   ]
  },
  {
   "cell_type": "code",
   "execution_count": null,
   "id": "03d9b42b-1863-4cf6-b8b7-3e0b1702b148",
   "metadata": {},
   "outputs": [],
   "source": [
    "# Super quick check of the difference\n",
    "(\n",
    "    co2.df.loc[start:end, co2_calc.poll_data.df.columns] - co2_calc.poll_data.df\n",
    ").abs().sum().sum()"
   ]
  },
  {
   "cell_type": "markdown",
   "id": "e4f02db3-d49a-4db8-a173-4e5743874539",
   "metadata": {},
   "source": [
    "# Change EFs and recompute"
   ]
  },
  {
   "cell_type": "code",
   "execution_count": null,
   "id": "715626ea-1a58-4e27-9162-09064da94fa5",
   "metadata": {},
   "outputs": [],
   "source": [
    "?BaDataEmissionsCalc"
   ]
  },
  {
   "cell_type": "code",
   "execution_count": null,
   "id": "63af569e-03ae-49c3-aa2d-f76abb32812f",
   "metadata": {},
   "outputs": [],
   "source": [
    "co2_calc.poll_data.df.to_csv(\"H2O_2019.csv\")"
   ]
  },
  {
   "cell_type": "code",
   "execution_count": null,
   "id": "91a0350b-9e1e-4039-a5bb-d306207e3ed8",
   "metadata": {},
   "outputs": [],
   "source": []
  },
  {
   "cell_type": "code",
   "execution_count": null,
   "id": "0bfb95b1-d3a7-43a4-a095-d94c42b9bb0e",
   "metadata": {},
   "outputs": [],
   "source": []
  },
  {
   "cell_type": "code",
   "execution_count": null,
   "id": "ddc493c1-7bd7-49e2-b01c-34cc0b571d41",
   "metadata": {},
   "outputs": [],
   "source": [
    "co2.get_cols(\"CISO\", field=\"D\")"
   ]
  },
  {
   "cell_type": "code",
   "execution_count": null,
   "id": "d48ce505-0405-417f-9649-353e66010c0b",
   "metadata": {},
   "outputs": [],
   "source": [
    "CO2i = pd.DataFrame(\n",
    "    {\n",
    "        ba: (\n",
    "            co2.df.loc[start:end, co2.get_cols(ba, field=\"D\")].values.flatten()\n",
    "            / elec.df.loc[start:end, elec.get_cols(ba, field=\"D\")].values.flatten()\n",
    "        )\n",
    "        for ba in H2O.regions\n",
    "    },\n",
    "    index=co2.df.loc[start:end].index,\n",
    ")"
   ]
  },
  {
   "cell_type": "code",
   "execution_count": null,
   "id": "441db1b1-65c6-4553-bab6-cc0662fa7f30",
   "metadata": {},
   "outputs": [],
   "source": [
    "H2Oi.to_csv(\"H2Oi_2019.csv\")"
   ]
  },
  {
   "cell_type": "code",
   "execution_count": null,
   "id": "19c977d0-8c0f-444f-a1a2-b5e77fe25536",
   "metadata": {},
   "outputs": [],
   "source": [
    "f, ax = plt.subplots()\n",
    "H2Oi[[\"CISO\", \"NEVP\", \"WACM\"]].plot(ax=ax)\n",
    "ax.set_ylabel(\"\")"
   ]
  },
  {
   "cell_type": "code",
   "execution_count": null,
   "id": "7f719de1-31f3-4b63-9250-b1ef4e5e64c8",
   "metadata": {},
   "outputs": [],
   "source": [
    "H2Oi.groupby(H2Oi.index.year).mean()[[\"CISO\", \"NEVP\", \"WACM\"]]"
   ]
  },
  {
   "cell_type": "code",
   "execution_count": null,
   "id": "00e63c2b-1afd-4a9c-9a39-c0b295535bf5",
   "metadata": {},
   "outputs": [],
   "source": []
  }
 ],
 "metadata": {
  "kernelspec": {
   "display_name": "Python 3",
   "language": "python",
   "name": "python3"
  },
  "language_info": {
   "codemirror_mode": {
    "name": "ipython",
    "version": 3
   },
   "file_extension": ".py",
   "mimetype": "text/x-python",
   "name": "python",
   "nbconvert_exporter": "python",
   "pygments_lexer": "ipython3",
   "version": "3.8.5"
  }
 },
 "nbformat": 4,
 "nbformat_minor": 5
}
