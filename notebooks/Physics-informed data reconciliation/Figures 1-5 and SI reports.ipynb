{
 "cells": [
  {
   "cell_type": "code",
   "execution_count": null,
   "metadata": {
    "jupyter": {
     "outputs_hidden": false
    }
   },
   "outputs": [],
   "source": [
    "%load_ext autoreload\n",
    "%autoreload 2\n",
    "%matplotlib inline\n",
    "import matplotlib.pyplot as plt\n",
    "import os\n",
    "from os.path import join\n",
    "import logging\n",
    "import json\n",
    "\n",
    "import pandas as pd\n",
    "from gridemissions.load import GraphData\n",
    "from gridemissions.eia_api_v1 import BAs, KEYS, SRC\n",
    "import gridemissions\n",
    "import re\n",
    "import numpy as np"
   ]
  },
  {
   "cell_type": "code",
   "execution_count": null,
   "metadata": {
    "tags": []
   },
   "outputs": [],
   "source": [
    "from gridemissions.viz import set_plots\n",
    "\n",
    "COLORS, PAGE_WIDTH, ROW_HEIGHT = set_plots()\n",
    "\n",
    "from gridemissions.viz.reports import cleaning_plot, summ_stats\n",
    "from matplotlib.backends.backend_pdf import PdfPages\n",
    "\n",
    "from gridemissions.papers.physics_informed import figure1, figure2, figure3, figure4"
   ]
  },
  {
   "cell_type": "code",
   "execution_count": null,
   "metadata": {
    "tags": []
   },
   "outputs": [],
   "source": [
    "print(gridemissions.config[\"APEN_PATH\"])\n",
    "FIG_PATH = join(gridemissions.config[\"APEN_PATH\"], \"figures\")\n",
    "os.makedirs(FIG_PATH, exist_ok=True)"
   ]
  },
  {
   "cell_type": "markdown",
   "metadata": {},
   "source": [
    "# Load data"
   ]
  },
  {
   "cell_type": "code",
   "execution_count": null,
   "metadata": {
    "tags": []
   },
   "outputs": [],
   "source": [
    "file_name = join(gridemissions.config[\"APEN_PATH\"], \"data\", \"EBA_%s.csv\")\n",
    "\n",
    "raw = GraphData(fileNm=file_name % \"raw\")\n",
    "basic = GraphData(fileNm=file_name % \"basic\")\n",
    "rolling = GraphData(fileNm=file_name % \"rolling\")\n",
    "opt = GraphData(fileNm=file_name % \"opt\")\n",
    "opt_no_src = GraphData(fileNm=file_name % \"opt_no_src\")"
   ]
  },
  {
   "cell_type": "markdown",
   "metadata": {},
   "source": [
    "# Figure 1: cleaning procedure explained"
   ]
  },
  {
   "cell_type": "code",
   "execution_count": null,
   "metadata": {
    "tags": []
   },
   "outputs": [],
   "source": [
    "start, end = (pd.to_datetime(\"20181101\"), pd.to_datetime(\"20181107\"))\n",
    "ba_data1 = GraphData(df=raw.df.loc[start:end, :])\n",
    "ba_data2 = GraphData(df=opt.df.loc[start:end, :])\n",
    "ba = \"SOCO\"\n",
    "\n",
    "f, ax = figure1(\n",
    "    ba,\n",
    "    GraphData(df=raw.df.loc[start:end]),\n",
    "    GraphData(df=basic.df.loc[start:end]),\n",
    "    GraphData(df=rolling.df.loc[start:end]),\n",
    "    GraphData(df=opt.df.loc[start:end]),\n",
    ")\n",
    "\n",
    "f.savefig(join(FIG_PATH, \"fig1.pdf\"))"
   ]
  },
  {
   "cell_type": "code",
   "execution_count": null,
   "metadata": {
    "tags": []
   },
   "outputs": [],
   "source": [
    "start, end = (pd.to_datetime(\"20181101\"), pd.to_datetime(\"20181130\"))\n",
    "_ = figure1(\n",
    "    \"MISO\",\n",
    "    GraphData(df=raw.df.loc[start:end]),\n",
    "    GraphData(df=basic.df.loc[start:end]),\n",
    "    GraphData(df=rolling.df.loc[start:end]),\n",
    "    GraphData(df=opt.df.loc[start:end]),\n",
    "    save_fig=False,\n",
    ")"
   ]
  },
  {
   "cell_type": "markdown",
   "metadata": {},
   "source": [
    "# Figure 2: Summary results on cleaning (post July 2018)"
   ]
  },
  {
   "cell_type": "code",
   "execution_count": null,
   "metadata": {},
   "outputs": [],
   "source": [
    "deltas = opt.df - raw.df\n",
    "delta_quantiles = deltas.quantile([0.1, 0.5, 0.9])\n",
    "deltas_abs = deltas.abs().quantile([0.1, 0.5, 0.9])\n",
    "median_raw = raw.df.abs().quantile(0.5)\n",
    "delta_quantiles_pct = delta_quantiles / median_raw * 100\n",
    "deltas.loc[\"20180701\":].isna().sum() / len(deltas)"
   ]
  },
  {
   "cell_type": "code",
   "execution_count": null,
   "metadata": {},
   "outputs": [],
   "source": [
    "n = 13\n",
    "ba_list = (\n",
    "    raw.df.loc[:, [c for c in raw.get_cols(raw.regions, \"D\") if c in raw.df.columns]]\n",
    "    .quantile(0.5)\n",
    "    .sort_values(ascending=False)\n",
    "    .index[0 : n * 3]\n",
    ")\n",
    "ba_list = [re.split(r\"\\.|-|_\", ba)[1] for ba in ba_list]\n",
    "ba_list.reverse()\n",
    "print(f\"Making figure for {len(ba_list)} regions\")\n",
    "\n",
    "f, ax = figure2(ba_list, n, delta_quantiles, median_raw, raw)\n",
    "f.savefig(join(FIG_PATH, \"fig2.pdf\"))\n",
    "\n",
    "ba_list.reverse()"
   ]
  },
  {
   "cell_type": "markdown",
   "metadata": {},
   "source": [
    "# Figures 3 and 4\n",
    "Normalized by TI for that BA"
   ]
  },
  {
   "cell_type": "code",
   "execution_count": null,
   "metadata": {},
   "outputs": [],
   "source": [
    "# Do one plot for WECC BAs and one for EIC BAs\n",
    "WECC_BAs = [\n",
    "    \"AVA\",\n",
    "    \"AZPS\",\n",
    "    \"BANC\",\n",
    "    \"BPAT\",\n",
    "    \"CHPD\",\n",
    "    \"CISO\",\n",
    "    \"DEAA\",\n",
    "    \"DOPD\",\n",
    "    \"EPE\",\n",
    "    \"GCPD\",\n",
    "    \"GRMA\",\n",
    "    \"GWA\",\n",
    "    \"HGMA\",\n",
    "    \"IID\",\n",
    "    \"IPCO\",\n",
    "    \"LDWP\",\n",
    "    \"NEVP\",\n",
    "    \"NWMT\",\n",
    "    \"PACE\",\n",
    "    \"PACW\",\n",
    "    \"PGE\",\n",
    "    \"PNM\",\n",
    "    \"PSCO\",\n",
    "    \"PSEI\",\n",
    "    \"SCL\",\n",
    "    \"SRP\",\n",
    "    \"TEPC\",\n",
    "    \"TIDC\",\n",
    "    \"TPWR\",\n",
    "    \"WACM\",\n",
    "    \"WALC\",\n",
    "    \"WAUW\",\n",
    "    \"WWA\",\n",
    "]\n",
    "# figure3(ba_list[0:21], deltas_abs, median_raw)\n",
    "sorted_WECC_BAs = [r for r in ba_list if r in WECC_BAs]\n",
    "sorted_not_WECC_BAs = [r for r in ba_list if r not in WECC_BAs]\n",
    "f, ax = figure3(sorted_WECC_BAs, deltas_abs, median_raw, raw)\n",
    "f.savefig(join(FIG_PATH, \"fig3a.pdf\"))\n",
    "\n",
    "f, ax = figure3(sorted_not_WECC_BAs, deltas_abs, median_raw, raw)\n",
    "f.savefig(join(FIG_PATH, \"fig3b.pdf\"))"
   ]
  },
  {
   "cell_type": "markdown",
   "metadata": {},
   "source": [
    "# Figure 5: Generation by source"
   ]
  },
  {
   "cell_type": "code",
   "execution_count": null,
   "metadata": {},
   "outputs": [],
   "source": [
    "nr = 13\n",
    "f, ax = figure4(ba_list[0 : 3 * nr], nr, deltas_abs, median_raw, raw)\n",
    "f.savefig(join(FIG_PATH, \"fig4.pdf\"))"
   ]
  },
  {
   "cell_type": "markdown",
   "metadata": {},
   "source": [
    "# BA report 1 on final dataset (also need to add back consumption emissions?)"
   ]
  },
  {
   "cell_type": "code",
   "execution_count": null,
   "metadata": {},
   "outputs": [],
   "source": [
    "ba_data1 = GraphData(df=opt.df.loc[:, :])\n",
    "\n",
    "pdf_handler = PdfPages(join(FIG_PATH, \"si_report_after.pdf\"))\n",
    "for ba in ba_list:\n",
    "    f, axes = cleaning_plot(\n",
    "        ba_data1, ba, w_id=True, scale=1e-3, w_balance=True, add_title=r\"after\"\n",
    "    )\n",
    "    pdf_handler.savefig(f)\n",
    "    plt.close()\n",
    "pdf_handler.close()"
   ]
  },
  {
   "cell_type": "markdown",
   "metadata": {},
   "source": [
    "# BA report 2 on deltas (:=opt - raw)"
   ]
  },
  {
   "cell_type": "code",
   "execution_count": null,
   "metadata": {},
   "outputs": [],
   "source": [
    "ba_data1 = GraphData(df=opt.df.loc[:, :] - raw.df.loc[:, :])\n",
    "pdf_handler = PdfPages(join(FIG_PATH, \"si_report_delta.pdf\"))\n",
    "for ba in ba_list:\n",
    "    f, axes = cleaning_plot(\n",
    "        ba_data1,\n",
    "        ba,\n",
    "        w_id=True,\n",
    "        scale=1e-3,\n",
    "        w_balance=False,\n",
    "        add_title=r\"(After - Before)\",\n",
    "    )\n",
    "    pdf_handler.savefig(f)\n",
    "    plt.close()\n",
    "pdf_handler.close()"
   ]
  },
  {
   "cell_type": "markdown",
   "metadata": {},
   "source": [
    "# BA report 3 on raw data"
   ]
  },
  {
   "cell_type": "code",
   "execution_count": null,
   "metadata": {},
   "outputs": [],
   "source": [
    "ba_data1 = GraphData(df=raw.df.loc[\"20180701\":, :])\n",
    "pdf_handler = PdfPages(join(FIG_PATH, \"si_report_raw.pdf\"))\n",
    "for ba in ba_list:\n",
    "    f, axes = cleaning_plot(\n",
    "        ba_data1, ba, w_id=True, scale=1e-3, w_balance=True, add_title=r\"before\"\n",
    "    )\n",
    "    pdf_handler.savefig(f)\n",
    "    plt.close()\n",
    "pdf_handler.close()"
   ]
  }
 ],
 "metadata": {
  "anaconda-cloud": {},
  "kernelspec": {
   "display_name": "Python3.8",
   "language": "python",
   "name": "python3.8"
  },
  "language_info": {
   "codemirror_mode": {
    "name": "ipython",
    "version": 3
   },
   "file_extension": ".py",
   "mimetype": "text/x-python",
   "name": "python",
   "nbconvert_exporter": "python",
   "pygments_lexer": "ipython3",
   "version": "3.8.5"
  }
 },
 "nbformat": 4,
 "nbformat_minor": 4
}
