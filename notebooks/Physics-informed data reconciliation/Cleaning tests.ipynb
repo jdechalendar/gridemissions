{
 "cells": [
  {
   "cell_type": "markdown",
   "metadata": {},
   "source": [
    "# Contents\n",
    "Different tests of the data reconciliation framework to test how robust it is to missing/bad data."
   ]
  },
  {
   "cell_type": "code",
   "execution_count": null,
   "metadata": {
    "jupyter": {
     "outputs_hidden": false
    }
   },
   "outputs": [],
   "source": [
    "%matplotlib inline\n",
    "import matplotlib.pyplot as plt\n",
    "from os.path import join\n",
    "import os\n",
    "import pandas as pd\n",
    "import numpy as np\n",
    "import gridemissions\n",
    "from gridemissions.load import BaData\n",
    "from gridemissions.viz.reports import cleaning_plot\n",
    "import matplotlib.dates as mdates"
   ]
  },
  {
   "cell_type": "code",
   "execution_count": null,
   "metadata": {
    "tags": []
   },
   "outputs": [],
   "source": [
    "from gridemissions.viz import set_plots\n",
    "\n",
    "COLORS, PAGE_WIDTH, ROW_HEIGHT = set_plots()"
   ]
  },
  {
   "cell_type": "code",
   "execution_count": null,
   "metadata": {},
   "outputs": [],
   "source": [
    "def make_plot1(raw_real, raw_fake, hist):\n",
    "    f, ax = plt.subplots(figsize=(PAGE_WIDTH, ROW_HEIGHT))\n",
    "    ax.plot(raw_real.df.loc[:, raw_real.get_cols(\"CISO\", \"D\")] / 1e3, label=\"test-raw\")\n",
    "    ax.plot(raw_fake.df.loc[:, raw_fake.get_cols(\"CISO\", \"D\")] / 1e3, label=\"test-fake\")\n",
    "    ax.plot(hist.df.loc[:, hist.get_cols(\"CISO\", \"D\")] / 1e3, label=\"historical\")\n",
    "    ax.set_ylabel(\"GW\")\n",
    "    ax.set_title(\"CISO demand\")\n",
    "    ax.legend()\n",
    "    f.autofmt_xdate()\n",
    "\n",
    "\n",
    "def make_plot2(test_folder, pg_width, save=True, title=\"\", bottom_ylim=None):\n",
    "    # Reload data\n",
    "    tmp_folder = join(gridemissions.config[\"APEN_PATH\"], test_folder, \"tmp\")\n",
    "    file_name = join(tmp_folder, \"EBA_%s.csv\")\n",
    "    raw_fake = BaData(fileNm=file_name % \"raw\")\n",
    "    preprocess = BaData(fileNm=file_name % \"rolling\")\n",
    "    reconciled = BaData(fileNm=file_name % \"opt\")\n",
    "\n",
    "    # Also reload real raw data\n",
    "    file_name_raw = join(gridemissions.config[\"APEN_PATH\"], \"data\", \"EBA_raw.csv\")\n",
    "    raw_real = BaData(fileNm=file_name_raw)\n",
    "    ba = \"CISO\"\n",
    "\n",
    "    # Make plot\n",
    "    f, ax = plt.subplots(figsize=(pg_width, ROW_HEIGHT))\n",
    "    d_col = raw_fake.get_cols(ba, \"D\")[0]\n",
    "    scale = 1e-3\n",
    "    # Plot 1: demand at different steps\n",
    "\n",
    "    ax.plot(\n",
    "        raw_fake.df.loc[:, d_col] * scale,\n",
    "        \"-o\",\n",
    "        lw=1.0,\n",
    "        ms=3,\n",
    "        color=COLORS[0],\n",
    "        label=\"raw (missing data)\",\n",
    "    )\n",
    "    x1, x2 = raw_fake.df.index[0], raw_fake.df.index[-1]\n",
    "    ax.plot(raw_real.df.loc[x1:x2, d_col] * scale, color=COLORS[0], lw=1.0, label=\"raw\")\n",
    "\n",
    "    ax.plot(\n",
    "        preprocess.df.loc[:, d_col] * scale,\n",
    "        color=COLORS[1],\n",
    "        ls=\"--\",\n",
    "        lw=1.0,\n",
    "        label=\"first guess\",\n",
    "    )\n",
    "    ax.plot(\n",
    "        reconciled.df.loc[:, d_col] * scale, color=COLORS[1], lw=1.0, label=\"reconciled\"\n",
    "    )\n",
    "\n",
    "    if bottom_ylim is not None:\n",
    "        ax.set_ylim(bottom=bottom_ylim)\n",
    "    f.autofmt_xdate()\n",
    "    ax.legend(loc=3, ncol=2, handlelength=1.5, columnspacing=1.0)\n",
    "    ax.set_ylabel(\"GW\")\n",
    "    ax.set_title(title)\n",
    "\n",
    "    ax.xaxis.set_major_formatter(mdates.DateFormatter(\"%b-%d\"))\n",
    "    if save:\n",
    "        f.savefig(\n",
    "            join(gridemissions.config[\"APEN_PATH\"], test_folder, f\"{test_folder}.pdf\")\n",
    "        )"
   ]
  },
  {
   "cell_type": "markdown",
   "metadata": {},
   "source": [
    "# Test 1 - remove two days' worth of CISO demand data\n",
    "Test on first 5 days of September 2020."
   ]
  },
  {
   "cell_type": "code",
   "execution_count": null,
   "metadata": {
    "tags": []
   },
   "outputs": [],
   "source": [
    "# Load raw data and restrict to a five day test period\n",
    "file_name_raw = join(gridemissions.config[\"APEN_PATH\"], \"data\", \"EBA_raw.csv\")\n",
    "data_raw = BaData(fileNm=file_name_raw)\n",
    "\n",
    "start = pd.to_datetime(\"2020-09-01T00:00Z\")\n",
    "end = pd.to_datetime(\"2020-09-05T00:00Z\")\n",
    "data_raw.df = data_raw.df.loc[start:end]\n",
    "\n",
    "# Create a copy of the test dataset and remove two days' worth of data\n",
    "data_raw_copy = BaData(df=data_raw.df.copy(deep=True))\n",
    "data_raw_copy.df.loc[\n",
    "    start + pd.Timedelta(\"1D\") : start + pd.Timedelta(\"3D\"),\n",
    "    data_raw_copy.get_cols(\"CISO\", \"D\"),\n",
    "] = np.nan\n",
    "\n",
    "# Load historical data and restrict to 15 days before when we are testing\n",
    "file_name_basic = join(gridemissions.config[\"APEN_PATH\"], \"data\", \"EBA_basic.csv\")\n",
    "data_basic = BaData(fileNm=file_name_basic)\n",
    "end_hist = start\n",
    "start_hist = end_hist - pd.Timedelta(\"15D\")\n",
    "data_basic.df = data_basic.df.loc[start_hist:end_hist]"
   ]
  },
  {
   "cell_type": "code",
   "execution_count": null,
   "metadata": {
    "jupyter": {
     "outputs_hidden": false
    }
   },
   "outputs": [],
   "source": [
    "make_plot1(data_raw, data_raw_copy, data_basic)"
   ]
  },
  {
   "cell_type": "code",
   "execution_count": null,
   "metadata": {
    "jupyter": {
     "outputs_hidden": false
    }
   },
   "outputs": [],
   "source": [
    "# Set up test folder and save data to the folder\n",
    "tmp_folder = join(gridemissions.config[\"APEN_PATH\"], \"si_test1\", \"tmp\")\n",
    "folder_hist = join(gridemissions.config[\"APEN_PATH\"], \"si_test1\", \"hist\")\n",
    "os.makedirs(tmp_folder, exist_ok=True)\n",
    "os.makedirs(folder_hist, exist_ok=True)\n",
    "\n",
    "data_raw_copy.df.to_csv(join(tmp_folder, \"EBA_raw.csv\"))\n",
    "data_basic.df.to_csv(join(folder_hist, \"EBA_basic.csv\"))\n",
    "\n",
    "# Run workflow on fake dataset\n",
    "from gridemissions.workflows import make_dataset\n",
    "\n",
    "make_dataset(\n",
    "    tmp_folder=tmp_folder,\n",
    "    folder_hist=folder_hist,\n",
    "    scrape=False,\n",
    ")"
   ]
  },
  {
   "cell_type": "code",
   "execution_count": null,
   "metadata": {
    "jupyter": {
     "outputs_hidden": false
    }
   },
   "outputs": [],
   "source": [
    "# Make plot\n",
    "make_plot2(\"si_test1\", PAGE_WIDTH / 2)"
   ]
  },
  {
   "cell_type": "markdown",
   "metadata": {},
   "source": [
    "# Test 2 - Remove 5 days' worth of CISO demand data\n",
    "Test on the first ten days of November 2020"
   ]
  },
  {
   "cell_type": "code",
   "execution_count": null,
   "metadata": {
    "tags": []
   },
   "outputs": [],
   "source": [
    "# Load raw data and restrict to a ten day test period\n",
    "file_name_raw = join(gridemissions.config[\"APEN_PATH\"], \"data\", \"EBA_raw.csv\")\n",
    "data_raw = BaData(fileNm=file_name_raw)\n",
    "\n",
    "start = pd.to_datetime(\"2020-11-01T00:00Z\")\n",
    "end = pd.to_datetime(\"2020-11-10T00:00Z\")\n",
    "data_raw.df = data_raw.df.loc[start:end]\n",
    "\n",
    "# Create a copy of the test dataset and remove five days' worth of data\n",
    "data_raw_copy = BaData(df=data_raw.df.copy(deep=True))\n",
    "data_raw_copy.df.loc[\n",
    "    start + pd.Timedelta(\"1D\") : start + pd.Timedelta(\"6D\"),\n",
    "    data_raw_copy.get_cols(\"CISO\", \"D\"),\n",
    "] = np.nan\n",
    "\n",
    "# Load historical data and restrict to 15 days before when we are testing\n",
    "file_name_basic = join(gridemissions.config[\"APEN_PATH\"], \"data\", \"EBA_basic.csv\")\n",
    "data_basic = BaData(fileNm=file_name_basic)\n",
    "end_hist = start\n",
    "start_hist = end_hist - pd.Timedelta(\"15D\")\n",
    "data_basic.df = data_basic.df.loc[start_hist:end_hist]"
   ]
  },
  {
   "cell_type": "code",
   "execution_count": null,
   "metadata": {},
   "outputs": [],
   "source": [
    "make_plot1(data_raw, data_raw_copy, data_basic)"
   ]
  },
  {
   "cell_type": "code",
   "execution_count": null,
   "metadata": {},
   "outputs": [],
   "source": [
    "# Set up test folder and save data to the folder\n",
    "tmp_folder = join(gridemissions.config[\"APEN_PATH\"], \"si_test2\", \"tmp\")\n",
    "folder_hist = join(gridemissions.config[\"APEN_PATH\"], \"si_test2\", \"hist\")\n",
    "os.makedirs(tmp_folder, exist_ok=True)\n",
    "os.makedirs(folder_hist, exist_ok=True)\n",
    "\n",
    "data_raw_copy.df.to_csv(join(tmp_folder, \"EBA_raw.csv\"))\n",
    "data_basic.df.to_csv(join(folder_hist, \"EBA_basic.csv\"))\n",
    "\n",
    "# Run workflow on fake dataset\n",
    "from gridemissions.workflows import make_dataset\n",
    "\n",
    "make_dataset(\n",
    "    tmp_folder=tmp_folder,\n",
    "    folder_hist=folder_hist,\n",
    "    scrape=False,\n",
    ")"
   ]
  },
  {
   "cell_type": "code",
   "execution_count": null,
   "metadata": {},
   "outputs": [],
   "source": [
    "# Make plot\n",
    "make_plot2(\n",
    "    \"si_test2\", PAGE_WIDTH, title=\"(a) Deleting 5 days in CISO demand\", bottom_ylim=13\n",
    ")"
   ]
  },
  {
   "cell_type": "markdown",
   "metadata": {},
   "source": [
    "# Test 3 - Remove all data for CISO demand\n",
    "Test on the first ten days of November 2020. Remove all data for CISO's demand. The heuristic to provide a first guess can only rely on data before the gap."
   ]
  },
  {
   "cell_type": "code",
   "execution_count": null,
   "metadata": {
    "tags": []
   },
   "outputs": [],
   "source": [
    "# Load raw data and restrict to a ten day test period\n",
    "file_name_raw = join(gridemissions.config[\"APEN_PATH\"], \"data\", \"EBA_raw.csv\")\n",
    "data_raw = BaData(fileNm=file_name_raw)\n",
    "\n",
    "start = pd.to_datetime(\"2020-11-01T00:00Z\")\n",
    "end = pd.to_datetime(\"2020-11-10T00:00Z\")\n",
    "data_raw.df = data_raw.df.loc[start:end]\n",
    "\n",
    "# Create a copy of the test dataset and remove all demand data for CISO\n",
    "data_raw_copy = BaData(df=data_raw.df.copy(deep=True))\n",
    "data_raw_copy.df.loc[:, data_raw_copy.get_cols(\"CISO\", \"D\")] = np.nan\n",
    "\n",
    "# Load historical data and restrict to 15 days before when we are testing\n",
    "file_name_basic = join(gridemissions.config[\"APEN_PATH\"], \"data\", \"EBA_basic.csv\")\n",
    "data_basic = BaData(fileNm=file_name_basic)\n",
    "end_hist = start\n",
    "start_hist = end_hist - pd.Timedelta(\"15D\")\n",
    "data_basic.df = data_basic.df.loc[start_hist:end_hist]"
   ]
  },
  {
   "cell_type": "code",
   "execution_count": null,
   "metadata": {},
   "outputs": [],
   "source": [
    "make_plot1(data_raw, data_raw_copy, data_basic)"
   ]
  },
  {
   "cell_type": "code",
   "execution_count": null,
   "metadata": {},
   "outputs": [],
   "source": [
    "# Set up test folder and save data to the folder\n",
    "tmp_folder = join(gridemissions.config[\"APEN_PATH\"], \"si_test3\", \"tmp\")\n",
    "folder_hist = join(gridemissions.config[\"APEN_PATH\"], \"si_test3\", \"hist\")\n",
    "os.makedirs(tmp_folder, exist_ok=True)\n",
    "os.makedirs(folder_hist, exist_ok=True)\n",
    "\n",
    "data_raw_copy.df.to_csv(join(tmp_folder, \"EBA_raw.csv\"))\n",
    "data_basic.df.to_csv(join(folder_hist, \"EBA_basic.csv\"))\n",
    "\n",
    "# Run workflow on fake dataset\n",
    "from gridemissions.workflows import make_dataset\n",
    "\n",
    "make_dataset(\n",
    "    tmp_folder=tmp_folder,\n",
    "    folder_hist=folder_hist,\n",
    "    scrape=False,\n",
    ")"
   ]
  },
  {
   "cell_type": "code",
   "execution_count": null,
   "metadata": {},
   "outputs": [],
   "source": [
    "# Make plot\n",
    "make_plot2(\n",
    "    \"si_test3\",\n",
    "    PAGE_WIDTH,\n",
    "    title=\"(b) Deleting all new data in CISO demand\",\n",
    "    bottom_ylim=13,\n",
    ")"
   ]
  },
  {
   "cell_type": "markdown",
   "metadata": {},
   "source": [
    "# Test 4 - Add noise to CISO demand data\n",
    "Add noise to demand data from CISO\n",
    "\n",
    "Recreate one example and reload results generated with a script"
   ]
  },
  {
   "cell_type": "code",
   "execution_count": null,
   "metadata": {},
   "outputs": [],
   "source": [
    "import sys\n",
    "\n",
    "print(sys.path)"
   ]
  },
  {
   "cell_type": "code",
   "execution_count": null,
   "metadata": {},
   "outputs": [],
   "source": [
    "from gridemissions.papers.physics_informed_cleaning_test import run_test\n",
    "\n",
    "error, raw, basic, rolling, opt, data_raw = run_test(debug=True)"
   ]
  },
  {
   "cell_type": "code",
   "execution_count": null,
   "metadata": {},
   "outputs": [],
   "source": [
    "# Make plot\n",
    "ba = \"CISO\"\n",
    "\n",
    "f, ax = plt.subplots(1, 2, figsize=(PAGE_WIDTH, ROW_HEIGHT))\n",
    "d_col = raw.get_cols(ba, \"D\")[0]\n",
    "scale = 1e-3\n",
    "start, end = raw.df.index[0], raw.df.index[-1]\n",
    "ax[0].plot(\n",
    "    data_raw.df.loc[start:end, d_col] * scale, color=COLORS[0], lw=1.0, label=\"raw\"\n",
    ")\n",
    "ax[0].plot(\n",
    "    rolling.df.loc[:, d_col] * scale,\n",
    "    lw=1.0,\n",
    "    ls=\"--\",\n",
    "    color=COLORS[1],\n",
    "    label=\"first guess\",\n",
    ")\n",
    "ax[0].plot(opt.df.loc[:, d_col] * scale, lw=1.0, color=COLORS[1], label=\"reconciled\")\n",
    "\n",
    "ax[0].set_ylim(bottom=0)\n",
    "f.autofmt_xdate()\n",
    "ax[0].legend(loc=3, ncol=2, handlelength=1.5, columnspacing=1.0)\n",
    "ax[0].set_ylabel(\"GW\")\n",
    "ax[0].set_title(\"(a) 20% noise added to CISO demand\")\n",
    "\n",
    "# Reload results generated with the script\n",
    "results = (\n",
    "    pd.read_csv(\n",
    "        join(gridemissions.config[\"APEN_PATH\"], f\"si_test4\", \"results.csv\"), index_col=0\n",
    "    )\n",
    "    * 100\n",
    ")\n",
    "results.columns = results.columns.astype(float) * 100\n",
    "\n",
    "ax[1].plot(results.mean(), \"k\")\n",
    "ax[1].plot(results.mean() + results.std(), \"k--\")\n",
    "ax[1].plot(results.mean() - results.std(), \"k--\")\n",
    "ax[1].set_ylabel(\"Error (%)\")\n",
    "ax[1].set_xlabel(\"Noise (%)\")\n",
    "ax[1].set_title(\"(b) Robustness to noise in CISO demand\")\n",
    "f.tight_layout()\n",
    "\n",
    "f.savefig(join(gridemissions.config[\"APEN_PATH\"], f\"si_test4\", \"si_test4.pdf\"))"
   ]
  },
  {
   "cell_type": "code",
   "execution_count": null,
   "metadata": {},
   "outputs": [],
   "source": []
  }
 ],
 "metadata": {
  "anaconda-cloud": {},
  "interpreter": {
   "hash": "0f474ae086090670f09abd39fd9708e07efb10f9e0308c8ee3908d21fdbc2920"
  },
  "kernelspec": {
   "display_name": "Python3.8",
   "language": "python",
   "name": "python3.8"
  },
  "language_info": {
   "codemirror_mode": {
    "name": "ipython",
    "version": 3
   },
   "file_extension": ".py",
   "mimetype": "text/x-python",
   "name": "python",
   "nbconvert_exporter": "python",
   "pygments_lexer": "ipython3",
   "version": "3.8.5"
  }
 },
 "nbformat": 4,
 "nbformat_minor": 4
}
