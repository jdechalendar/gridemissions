{
 "cells": [
  {
   "cell_type": "code",
   "execution_count": null,
   "metadata": {},
   "outputs": [],
   "source": [
    "%matplotlib inline\n",
    "import matplotlib.pyplot as plt\n",
    "import pandas as pd\n",
    "from weather.noaa import load_isd_history, load_isd\n",
    "import os\n",
    "from os.path import join\n",
    "import gridemissions\n",
    "from gridemissions.viz import set_plots"
   ]
  },
  {
   "cell_type": "code",
   "execution_count": null,
   "metadata": {},
   "outputs": [],
   "source": [
    "from gridemissions.papers.physics_informed import get_changes"
   ]
  },
  {
   "cell_type": "code",
   "execution_count": null,
   "metadata": {},
   "outputs": [],
   "source": [
    "print(gridemissions.config[\"APEN_PATH\"])\n",
    "FIG_PATH = join(gridemissions.config[\"APEN_PATH\"], \"figures\")\n",
    "os.makedirs(FIG_PATH, exist_ok=True)"
   ]
  },
  {
   "cell_type": "code",
   "execution_count": null,
   "metadata": {},
   "outputs": [],
   "source": [
    "COLORS, PAGE_WIDTH, ROW_HEIGHT = set_plots()"
   ]
  },
  {
   "cell_type": "code",
   "execution_count": null,
   "metadata": {},
   "outputs": [],
   "source": [
    "df_stations = load_isd_history(subset=None)"
   ]
  },
  {
   "cell_type": "code",
   "execution_count": null,
   "metadata": {},
   "outputs": [],
   "source": [
    "# name_dict = df_stations.loc[df_stations.fileNm.isin([\"725180-14735\", \"999999-54902\", \"722540-13904\"]), :][[\"fileNm\", \"STATION NAME\"]].set_index(\"fileNm\")[\"STATION NAME\"].to_dict()\n",
    "name_dict = {\n",
    "    \"722540-13904\": \"Austin airport\",\n",
    "    \"725180-14735\": \"Albany airport\",\n",
    "    \"999999-54902\": \"Des Moines\",\n",
    "}"
   ]
  },
  {
   "cell_type": "code",
   "execution_count": null,
   "metadata": {},
   "outputs": [],
   "source": [
    "df = load_isd(\n",
    "    file_name=[\"725180-14735\", \"999999-54902\", \"722540-13904\"],\n",
    "    years=range(2015, 2021),\n",
    "    request_type=\"list\",\n",
    ")"
   ]
  },
  {
   "cell_type": "code",
   "execution_count": null,
   "metadata": {},
   "outputs": [],
   "source": [
    "def make_plot(ax, s, color, label, alpha=1.0, lw=1.0):\n",
    "    xvals = pd.to_datetime(\n",
    "        (10000 * 2020 + 100 * s.index.month + s.index.day).astype(str)\n",
    "    )\n",
    "    ax.plot(xvals, s, label=label, color=color, alpha=alpha, lw=lw)\n",
    "\n",
    "\n",
    "f, (ax, ax2) = plt.subplots(\n",
    "    2,\n",
    "    3,\n",
    "    figsize=(1.5 * PAGE_WIDTH, 1.2 * ROW_HEIGHT),\n",
    "    gridspec_kw={\"height_ratios\": [2.7, 1]},\n",
    ")\n",
    "\n",
    "for i, k in enumerate(df.keys()):\n",
    "    df_plot = df[k].TEMP.groupby(df[k].index.date).mean().rolling(14).mean()\n",
    "    df_plot.index = pd.to_datetime(df_plot.index)\n",
    "    df_plot = df_plot[\"20150714\":]\n",
    "\n",
    "    for iyear, year in enumerate([2015, 2016, 2017, 2018, 2019, 2020]):\n",
    "        if year == 2020:\n",
    "            color = \"k\"\n",
    "            alpha = 1\n",
    "            lw = 1\n",
    "        else:\n",
    "            color = COLORS[iyear]\n",
    "            alpha = 0.6\n",
    "            lw = 0.5\n",
    "        make_plot(\n",
    "            ax[i],\n",
    "            df_plot.loc[df_plot.index.year == year],\n",
    "            color=color,\n",
    "            label=year,\n",
    "            alpha=alpha,\n",
    "            lw=lw,\n",
    "        )\n",
    "        ax[i].set_title(name_dict[k])\n",
    "\n",
    "    changes = get_changes(df_plot, which=\"abs\")\n",
    "    ax2[i].plot(changes)\n",
    "\n",
    "import matplotlib.dates as mdates\n",
    "\n",
    "for a in ax:\n",
    "    a.set_xticklabels([])\n",
    "    a.tick_params(length=0.0)\n",
    "    a.set_ylabel(\"F\")\n",
    "for a in ax2:\n",
    "    a.xaxis.set_major_formatter(mdates.DateFormatter(\"%b\"))\n",
    "    for label in a.get_xticklabels():\n",
    "        label.set_ha(\"right\")\n",
    "        label.set_rotation(20)\n",
    "    a.set_ylabel(\"F\")\n",
    "ax[1].legend(loc=3, ncol=2)\n",
    "f.suptitle(\"(d) Mean daily temperature\", ha=\"left\", x=0.01, y=0.99)\n",
    "f.subplots_adjust(left=0.06, bottom=0.2, right=0.99, top=0.84, wspace=0.3, hspace=0.08)\n",
    "f.savefig(join(FIG_PATH, \"fig7_temps.pdf\"))"
   ]
  }
 ],
 "metadata": {
  "kernelspec": {
   "display_name": "Python3.8",
   "language": "python",
   "name": "python3.8"
  },
  "language_info": {
   "codemirror_mode": {
    "name": "ipython",
    "version": 3
   },
   "file_extension": ".py",
   "mimetype": "text/x-python",
   "name": "python",
   "nbconvert_exporter": "python",
   "pygments_lexer": "ipython3",
   "version": "3.8.5"
  }
 },
 "nbformat": 4,
 "nbformat_minor": 4
}
